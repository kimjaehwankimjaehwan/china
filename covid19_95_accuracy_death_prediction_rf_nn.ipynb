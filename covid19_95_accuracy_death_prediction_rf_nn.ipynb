{
  "metadata": {
    "kernelspec": {
      "language": "python",
      "display_name": "Python 3",
      "name": "python3"
    },
    "language_info": {
      "pygments_lexer": "ipython3",
      "nbconvert_exporter": "python",
      "version": "3.6.4",
      "file_extension": ".py",
      "codemirror_mode": {
        "name": "ipython",
        "version": 3
      },
      "name": "python",
      "mimetype": "text/x-python"
    },
    "kaggle": {
      "accelerator": "none",
      "dataSources": [
        {
          "sourceId": 4504149,
          "sourceType": "datasetVersion",
          "datasetId": 2633044
        }
      ],
      "dockerImageVersionId": 30497,
      "isInternetEnabled": false,
      "language": "python",
      "sourceType": "notebook",
      "isGpuEnabled": false
    },
    "colab": {
      "provenance": [],
      "include_colab_link": true
    }
  },
  "nbformat_minor": 0,
  "nbformat": 4,
  "cells": [
    {
      "cell_type": "markdown",
      "metadata": {
        "id": "view-in-github",
        "colab_type": "text"
      },
      "source": [
        "<a href=\"https://colab.research.google.com/github/kimjaehwankimjaehwan/china/blob/main/covid19_95_accuracy_death_prediction_rf_nn.ipynb\" target=\"_parent\"><img src=\"https://colab.research.google.com/assets/colab-badge.svg\" alt=\"Open In Colab\"/></a>"
      ]
    },
    {
      "cell_type": "markdown",
      "source": [
        "# 1. Importing modules and data"
      ],
      "metadata": {
        "id": "m26QSO8mLXor"
      }
    },
    {
      "cell_type": "code",
      "source": [
        "from google.colab import drive\n",
        "drive.mount('/content/drive')"
      ],
      "metadata": {
        "colab": {
          "base_uri": "https://localhost:8080/"
        },
        "id": "4h0Pw3RlLbA1",
        "outputId": "02cdbfb2-1c70-4d2f-e43c-586326c5545e"
      },
      "execution_count": 3,
      "outputs": [
        {
          "output_type": "stream",
          "name": "stdout",
          "text": [
            "Drive already mounted at /content/drive; to attempt to forcibly remount, call drive.mount(\"/content/drive\", force_remount=True).\n"
          ]
        }
      ]
    },
    {
      "cell_type": "code",
      "source": [
        "import numpy as np\n",
        "import pandas as pd\n",
        "import seaborn as sns\n",
        "import matplotlib.pyplot as plt\n",
        "from sklearn.preprocessing import MinMaxScaler\n",
        "from sklearn.model_selection import train_test_split\n",
        "from sklearn.ensemble import RandomForestClassifier\n",
        "from sklearn.metrics import classification_report, confusion_matrix\n",
        "from tensorflow.keras.models import Sequential\n",
        "from tensorflow.keras.layers import Dense, Dropout\n",
        "from tensorflow.keras.callbacks import EarlyStopping\n",
        "%matplotlib inline"
      ],
      "metadata": {
        "execution": {
          "iopub.status.busy": "2023-05-31T07:33:50.042086Z",
          "iopub.execute_input": "2023-05-31T07:33:50.042543Z",
          "iopub.status.idle": "2023-05-31T07:34:00.914807Z",
          "shell.execute_reply.started": "2023-05-31T07:33:50.042506Z",
          "shell.execute_reply": "2023-05-31T07:34:00.9136Z"
        },
        "trusted": true,
        "id": "ElWTrx7sLXot"
      },
      "execution_count": 4,
      "outputs": []
    },
    {
      "cell_type": "code",
      "source": [
        "\n",
        "path = \"/content/drive/MyDrive/중국/COVID19/Covid Data.csv\"\n",
        "df = pd.read_csv(path)"
      ],
      "metadata": {
        "execution": {
          "iopub.status.busy": "2023-05-31T07:34:00.923426Z",
          "iopub.execute_input": "2023-05-31T07:34:00.923926Z",
          "iopub.status.idle": "2023-05-31T07:34:03.442201Z",
          "shell.execute_reply.started": "2023-05-31T07:34:00.923883Z",
          "shell.execute_reply": "2023-05-31T07:34:03.440581Z"
        },
        "trusted": true,
        "id": "125B2mN7LXov"
      },
      "execution_count": 5,
      "outputs": []
    },
    {
      "cell_type": "markdown",
      "source": [
        "# 2. Exploratory Data Analysis and Feature Engineering"
      ],
      "metadata": {
        "id": "9nex_zdpLXow"
      }
    },
    {
      "cell_type": "markdown",
      "source": [
        "The raw dataset consists of 21 unique features and 1,048,576 unique patients. In the Boolean features, 1 means \"yes\" and 2 means \"no\". values as 97 and 99 are missing data.\n",
        "\n",
        "- sex: 1 for female and 2 for male.\n",
        "- age: of the patient.\n",
        "- classification: covid test findings. Values 1-3 mean that the patient was diagnosed with covid in different degrees. 4 or higher means that the patient is not a carrier of covid or that the test is inconclusive.\n",
        "- patient type: type of care the patient received in the unit. 1 for returned home and 2 for hospitalization.\n",
        "- pneumonia: whether the patient already have air sacs inflammation or not.\n",
        "- pregnancy: whether the patient is pregnant or not.\n",
        "- diabetes: whether the patient has diabetes or not.\n",
        "- copd: Indicates whether the patient has Chronic obstructive pulmonary disease or not.\n",
        "- asthma: whether the patient has asthma or not.\n",
        "- inmsupr: whether the patient is immunosuppressed or not.\n",
        "- hypertension: whether the patient has hypertension or not.\n",
        "- cardiovascular: whether the patient has heart or blood vessels related disease.\n",
        "- renal chronic: whether the patient has chronic renal disease or not.\n",
        "- other disease: whether the patient has other disease or not.\n",
        "- obesity: whether the patient is obese or not.\n",
        "- tobacco: whether the patient is a tobacco user.\n",
        "- usmr: Indicates whether the patient treated medical units of the first, second or third level.\n",
        "- medical unit: type of institution of the National Health System that provided the care.\n",
        "- intubed: whether the patient was connected to the ventilator.\n",
        "- icu: Indicates whether the patient had been admitted to an Intensive Care Unit.\n",
        "- date died: If the patient died indicate the date of death, and 9999-99-99 otherwise."
      ],
      "metadata": {
        "id": "fGrZWNY1LXow"
      }
    },
    {
      "cell_type": "markdown",
      "source": [
        "Besides 97 and 99, it was also found that the value 98 was present in some of the categorical variables, which is assumed to also mean a missing value."
      ],
      "metadata": {
        "id": "sxKZGpcuLXox"
      }
    },
    {
      "cell_type": "code",
      "source": [
        "df.isin([97, 98, 99]).any()"
      ],
      "metadata": {
        "execution": {
          "iopub.status.busy": "2023-05-31T07:34:03.443527Z",
          "iopub.execute_input": "2023-05-31T07:34:03.443893Z",
          "iopub.status.idle": "2023-05-31T07:34:05.632891Z",
          "shell.execute_reply.started": "2023-05-31T07:34:03.443863Z",
          "shell.execute_reply": "2023-05-31T07:34:05.631782Z"
        },
        "trusted": true,
        "colab": {
          "base_uri": "https://localhost:8080/",
          "height": 743
        },
        "id": "x162ZTvXLXox",
        "outputId": "93295280-c71b-439b-d178-11d321939af6"
      },
      "execution_count": 6,
      "outputs": [
        {
          "output_type": "execute_result",
          "data": {
            "text/plain": [
              "USMER                   False\n",
              "MEDICAL_UNIT            False\n",
              "SEX                     False\n",
              "PATIENT_TYPE            False\n",
              "DATE_DIED               False\n",
              "INTUBED                  True\n",
              "PNEUMONIA                True\n",
              "AGE                      True\n",
              "PREGNANT                 True\n",
              "DIABETES                 True\n",
              "COPD                     True\n",
              "ASTHMA                   True\n",
              "INMSUPR                  True\n",
              "HIPERTENSION             True\n",
              "OTHER_DISEASE            True\n",
              "CARDIOVASCULAR           True\n",
              "OBESITY                  True\n",
              "RENAL_CHRONIC            True\n",
              "TOBACCO                  True\n",
              "CLASIFFICATION_FINAL    False\n",
              "ICU                      True\n",
              "dtype: bool"
            ],
            "text/html": [
              "<div>\n",
              "<style scoped>\n",
              "    .dataframe tbody tr th:only-of-type {\n",
              "        vertical-align: middle;\n",
              "    }\n",
              "\n",
              "    .dataframe tbody tr th {\n",
              "        vertical-align: top;\n",
              "    }\n",
              "\n",
              "    .dataframe thead th {\n",
              "        text-align: right;\n",
              "    }\n",
              "</style>\n",
              "<table border=\"1\" class=\"dataframe\">\n",
              "  <thead>\n",
              "    <tr style=\"text-align: right;\">\n",
              "      <th></th>\n",
              "      <th>0</th>\n",
              "    </tr>\n",
              "  </thead>\n",
              "  <tbody>\n",
              "    <tr>\n",
              "      <th>USMER</th>\n",
              "      <td>False</td>\n",
              "    </tr>\n",
              "    <tr>\n",
              "      <th>MEDICAL_UNIT</th>\n",
              "      <td>False</td>\n",
              "    </tr>\n",
              "    <tr>\n",
              "      <th>SEX</th>\n",
              "      <td>False</td>\n",
              "    </tr>\n",
              "    <tr>\n",
              "      <th>PATIENT_TYPE</th>\n",
              "      <td>False</td>\n",
              "    </tr>\n",
              "    <tr>\n",
              "      <th>DATE_DIED</th>\n",
              "      <td>False</td>\n",
              "    </tr>\n",
              "    <tr>\n",
              "      <th>INTUBED</th>\n",
              "      <td>True</td>\n",
              "    </tr>\n",
              "    <tr>\n",
              "      <th>PNEUMONIA</th>\n",
              "      <td>True</td>\n",
              "    </tr>\n",
              "    <tr>\n",
              "      <th>AGE</th>\n",
              "      <td>True</td>\n",
              "    </tr>\n",
              "    <tr>\n",
              "      <th>PREGNANT</th>\n",
              "      <td>True</td>\n",
              "    </tr>\n",
              "    <tr>\n",
              "      <th>DIABETES</th>\n",
              "      <td>True</td>\n",
              "    </tr>\n",
              "    <tr>\n",
              "      <th>COPD</th>\n",
              "      <td>True</td>\n",
              "    </tr>\n",
              "    <tr>\n",
              "      <th>ASTHMA</th>\n",
              "      <td>True</td>\n",
              "    </tr>\n",
              "    <tr>\n",
              "      <th>INMSUPR</th>\n",
              "      <td>True</td>\n",
              "    </tr>\n",
              "    <tr>\n",
              "      <th>HIPERTENSION</th>\n",
              "      <td>True</td>\n",
              "    </tr>\n",
              "    <tr>\n",
              "      <th>OTHER_DISEASE</th>\n",
              "      <td>True</td>\n",
              "    </tr>\n",
              "    <tr>\n",
              "      <th>CARDIOVASCULAR</th>\n",
              "      <td>True</td>\n",
              "    </tr>\n",
              "    <tr>\n",
              "      <th>OBESITY</th>\n",
              "      <td>True</td>\n",
              "    </tr>\n",
              "    <tr>\n",
              "      <th>RENAL_CHRONIC</th>\n",
              "      <td>True</td>\n",
              "    </tr>\n",
              "    <tr>\n",
              "      <th>TOBACCO</th>\n",
              "      <td>True</td>\n",
              "    </tr>\n",
              "    <tr>\n",
              "      <th>CLASIFFICATION_FINAL</th>\n",
              "      <td>False</td>\n",
              "    </tr>\n",
              "    <tr>\n",
              "      <th>ICU</th>\n",
              "      <td>True</td>\n",
              "    </tr>\n",
              "  </tbody>\n",
              "</table>\n",
              "</div><br><label><b>dtype:</b> bool</label>"
            ]
          },
          "metadata": {},
          "execution_count": 6
        }
      ]
    },
    {
      "cell_type": "markdown",
      "source": [
        "This convention for missing values of course creates some problems wrt. the AGE variable, where these numbers are valid values. Looking closer at the number of occurrences within the AGE variable above the age of 90, the count of 97, 98 and 99 seem as expected compared to the adjacent values, so it's assumed that they do not denote a missing value for this continuous variable."
      ],
      "metadata": {
        "id": "dwn8ohkMLXoy"
      }
    },
    {
      "cell_type": "code",
      "source": [
        "df.loc[df[\"AGE\"]>90, \"AGE\"].value_counts()"
      ],
      "metadata": {
        "execution": {
          "iopub.status.busy": "2023-05-31T07:34:05.636051Z",
          "iopub.execute_input": "2023-05-31T07:34:05.63644Z",
          "iopub.status.idle": "2023-05-31T07:34:05.652357Z",
          "shell.execute_reply.started": "2023-05-31T07:34:05.636381Z",
          "shell.execute_reply": "2023-05-31T07:34:05.65108Z"
        },
        "trusted": true,
        "colab": {
          "base_uri": "https://localhost:8080/",
          "height": 1000
        },
        "id": "s1EPP-FhLXoy",
        "outputId": "970b5cf6-6769-4171-fe81-7ae22e353190"
      },
      "execution_count": 7,
      "outputs": [
        {
          "output_type": "execute_result",
          "data": {
            "text/plain": [
              "AGE\n",
              "91     595\n",
              "92     449\n",
              "93     376\n",
              "94     281\n",
              "95     271\n",
              "96     195\n",
              "97     135\n",
              "98     124\n",
              "99      86\n",
              "100     70\n",
              "101     25\n",
              "102     21\n",
              "103     19\n",
              "104     15\n",
              "108      8\n",
              "105      7\n",
              "109      6\n",
              "110      6\n",
              "107      5\n",
              "120      5\n",
              "106      4\n",
              "117      3\n",
              "119      3\n",
              "114      2\n",
              "118      2\n",
              "116      2\n",
              "115      2\n",
              "111      1\n",
              "121      1\n",
              "113      1\n",
              "Name: count, dtype: int64"
            ],
            "text/html": [
              "<div>\n",
              "<style scoped>\n",
              "    .dataframe tbody tr th:only-of-type {\n",
              "        vertical-align: middle;\n",
              "    }\n",
              "\n",
              "    .dataframe tbody tr th {\n",
              "        vertical-align: top;\n",
              "    }\n",
              "\n",
              "    .dataframe thead th {\n",
              "        text-align: right;\n",
              "    }\n",
              "</style>\n",
              "<table border=\"1\" class=\"dataframe\">\n",
              "  <thead>\n",
              "    <tr style=\"text-align: right;\">\n",
              "      <th></th>\n",
              "      <th>count</th>\n",
              "    </tr>\n",
              "    <tr>\n",
              "      <th>AGE</th>\n",
              "      <th></th>\n",
              "    </tr>\n",
              "  </thead>\n",
              "  <tbody>\n",
              "    <tr>\n",
              "      <th>91</th>\n",
              "      <td>595</td>\n",
              "    </tr>\n",
              "    <tr>\n",
              "      <th>92</th>\n",
              "      <td>449</td>\n",
              "    </tr>\n",
              "    <tr>\n",
              "      <th>93</th>\n",
              "      <td>376</td>\n",
              "    </tr>\n",
              "    <tr>\n",
              "      <th>94</th>\n",
              "      <td>281</td>\n",
              "    </tr>\n",
              "    <tr>\n",
              "      <th>95</th>\n",
              "      <td>271</td>\n",
              "    </tr>\n",
              "    <tr>\n",
              "      <th>96</th>\n",
              "      <td>195</td>\n",
              "    </tr>\n",
              "    <tr>\n",
              "      <th>97</th>\n",
              "      <td>135</td>\n",
              "    </tr>\n",
              "    <tr>\n",
              "      <th>98</th>\n",
              "      <td>124</td>\n",
              "    </tr>\n",
              "    <tr>\n",
              "      <th>99</th>\n",
              "      <td>86</td>\n",
              "    </tr>\n",
              "    <tr>\n",
              "      <th>100</th>\n",
              "      <td>70</td>\n",
              "    </tr>\n",
              "    <tr>\n",
              "      <th>101</th>\n",
              "      <td>25</td>\n",
              "    </tr>\n",
              "    <tr>\n",
              "      <th>102</th>\n",
              "      <td>21</td>\n",
              "    </tr>\n",
              "    <tr>\n",
              "      <th>103</th>\n",
              "      <td>19</td>\n",
              "    </tr>\n",
              "    <tr>\n",
              "      <th>104</th>\n",
              "      <td>15</td>\n",
              "    </tr>\n",
              "    <tr>\n",
              "      <th>108</th>\n",
              "      <td>8</td>\n",
              "    </tr>\n",
              "    <tr>\n",
              "      <th>105</th>\n",
              "      <td>7</td>\n",
              "    </tr>\n",
              "    <tr>\n",
              "      <th>109</th>\n",
              "      <td>6</td>\n",
              "    </tr>\n",
              "    <tr>\n",
              "      <th>110</th>\n",
              "      <td>6</td>\n",
              "    </tr>\n",
              "    <tr>\n",
              "      <th>107</th>\n",
              "      <td>5</td>\n",
              "    </tr>\n",
              "    <tr>\n",
              "      <th>120</th>\n",
              "      <td>5</td>\n",
              "    </tr>\n",
              "    <tr>\n",
              "      <th>106</th>\n",
              "      <td>4</td>\n",
              "    </tr>\n",
              "    <tr>\n",
              "      <th>117</th>\n",
              "      <td>3</td>\n",
              "    </tr>\n",
              "    <tr>\n",
              "      <th>119</th>\n",
              "      <td>3</td>\n",
              "    </tr>\n",
              "    <tr>\n",
              "      <th>114</th>\n",
              "      <td>2</td>\n",
              "    </tr>\n",
              "    <tr>\n",
              "      <th>118</th>\n",
              "      <td>2</td>\n",
              "    </tr>\n",
              "    <tr>\n",
              "      <th>116</th>\n",
              "      <td>2</td>\n",
              "    </tr>\n",
              "    <tr>\n",
              "      <th>115</th>\n",
              "      <td>2</td>\n",
              "    </tr>\n",
              "    <tr>\n",
              "      <th>111</th>\n",
              "      <td>1</td>\n",
              "    </tr>\n",
              "    <tr>\n",
              "      <th>121</th>\n",
              "      <td>1</td>\n",
              "    </tr>\n",
              "    <tr>\n",
              "      <th>113</th>\n",
              "      <td>1</td>\n",
              "    </tr>\n",
              "  </tbody>\n",
              "</table>\n",
              "</div><br><label><b>dtype:</b> int64</label>"
            ]
          },
          "metadata": {},
          "execution_count": 7
        }
      ]
    },
    {
      "cell_type": "markdown",
      "source": [
        "For the remaining (categorical) variables, these three numbers are replaced with NaN, so they can be handled properly later."
      ],
      "metadata": {
        "id": "2a0qgmBeLXoz"
      }
    },
    {
      "cell_type": "code",
      "source": [
        "df[df.columns.drop(\"AGE\")] = df[df.columns.drop(\"AGE\")].replace([97, 98, 99], np.nan)"
      ],
      "metadata": {
        "execution": {
          "iopub.status.busy": "2023-05-31T07:34:05.653966Z",
          "iopub.execute_input": "2023-05-31T07:34:05.654444Z",
          "iopub.status.idle": "2023-05-31T07:34:07.187772Z",
          "shell.execute_reply.started": "2023-05-31T07:34:05.654402Z",
          "shell.execute_reply": "2023-05-31T07:34:07.186661Z"
        },
        "trusted": true,
        "id": "i2Qf2rvtLXoz"
      },
      "execution_count": 8,
      "outputs": []
    },
    {
      "cell_type": "markdown",
      "source": [
        "The target variable, whether the patient died or not, can be deducted from \"date died\". We follow the orthodox notation of using 0 for False and 1 for True."
      ],
      "metadata": {
        "id": "fe3a8tJaLXoz"
      }
    },
    {
      "cell_type": "code",
      "source": [
        "df[\"DIED\"] = df[\"DATE_DIED\"].apply(lambda x: 0 if x == \"9999-99-99\" else 1)"
      ],
      "metadata": {
        "execution": {
          "iopub.status.busy": "2023-05-31T07:34:07.189262Z",
          "iopub.execute_input": "2023-05-31T07:34:07.189639Z",
          "iopub.status.idle": "2023-05-31T07:34:07.583512Z",
          "shell.execute_reply.started": "2023-05-31T07:34:07.189606Z",
          "shell.execute_reply": "2023-05-31T07:34:07.582248Z"
        },
        "trusted": true,
        "id": "MW1YZQIvLXo0"
      },
      "execution_count": 9,
      "outputs": []
    },
    {
      "cell_type": "code",
      "source": [
        "sns.countplot(data=df, x=\"DIED\")\n",
        "plt.show()"
      ],
      "metadata": {
        "execution": {
          "iopub.status.busy": "2023-05-31T07:34:07.585037Z",
          "iopub.execute_input": "2023-05-31T07:34:07.585402Z",
          "iopub.status.idle": "2023-05-31T07:34:07.864553Z",
          "shell.execute_reply.started": "2023-05-31T07:34:07.585359Z",
          "shell.execute_reply": "2023-05-31T07:34:07.863427Z"
        },
        "trusted": true,
        "colab": {
          "base_uri": "https://localhost:8080/",
          "height": 465
        },
        "id": "VbD48uAnLXo0",
        "outputId": "9b8e1b98-01b6-4661-a456-262ee488ca72"
      },
      "execution_count": 10,
      "outputs": [
        {
          "output_type": "display_data",
          "data": {
            "text/plain": [
              "<Figure size 640x480 with 1 Axes>"
            ],
            "image/png": "[encoded data removed]"
          },
          "metadata": {}
        }
      ]
    },
    {
      "cell_type": "markdown",
      "source": [
        "As can be seen, the target variable is quite imbalanced."
      ],
      "metadata": {
        "id": "mrdiAe5DLXo0"
      }
    },
    {
      "cell_type": "markdown",
      "source": [
        "The date of death is dropped as it is not the target variable and using it as a predictor would cause data leakage."
      ],
      "metadata": {
        "id": "h8AuzIsOLXo0"
      }
    },
    {
      "cell_type": "code",
      "source": [
        "df = df.drop(\"DATE_DIED\", axis=1)"
      ],
      "metadata": {
        "execution": {
          "iopub.status.busy": "2023-05-31T07:34:07.866004Z",
          "iopub.execute_input": "2023-05-31T07:34:07.867179Z",
          "iopub.status.idle": "2023-05-31T07:34:07.968483Z",
          "shell.execute_reply.started": "2023-05-31T07:34:07.86713Z",
          "shell.execute_reply": "2023-05-31T07:34:07.967357Z"
        },
        "trusted": true,
        "id": "CtqzrVFvLXo0"
      },
      "execution_count": 11,
      "outputs": []
    },
    {
      "cell_type": "markdown",
      "source": [
        "## 2.1 Summary of Data Characteristics\n",
        "Getting an overview of the data at hand"
      ],
      "metadata": {
        "id": "_pQL1Q0ILXo1"
      }
    },
    {
      "cell_type": "code",
      "source": [
        "df.head(10)"
      ],
      "metadata": {
        "execution": {
          "iopub.status.busy": "2023-05-31T07:34:07.971475Z",
          "iopub.execute_input": "2023-05-31T07:34:07.971923Z",
          "iopub.status.idle": "2023-05-31T07:34:08.02048Z",
          "shell.execute_reply.started": "2023-05-31T07:34:07.971885Z",
          "shell.execute_reply": "2023-05-31T07:34:08.019413Z"
        },
        "trusted": true,
        "colab": {
          "base_uri": "https://localhost:8080/",
          "height": 412
        },
        "id": "kGVE79TiLXo1",
        "outputId": "ab710dbf-5fc5-4d03-bfd2-b897a51b45f3"
      },
      "execution_count": 12,
      "outputs": [
        {
          "output_type": "execute_result",
          "data": {
            "text/plain": [
              "   USMER  MEDICAL_UNIT  SEX  PATIENT_TYPE  INTUBED  PNEUMONIA  AGE  PREGNANT  \\\n",
              "0      2             1    1             1      NaN        1.0   65       2.0   \n",
              "1      2             1    2             1      NaN        1.0   72       NaN   \n",
              "2      2             1    2             2      1.0        2.0   55       NaN   \n",
              "3      2             1    1             1      NaN        2.0   53       2.0   \n",
              "4      2             1    2             1      NaN        2.0   68       NaN   \n",
              "5      2             1    1             2      2.0        1.0   40       2.0   \n",
              "6      2             1    1             1      NaN        2.0   64       2.0   \n",
              "7      2             1    1             1      NaN        1.0   64       2.0   \n",
              "8      2             1    1             2      2.0        2.0   37       2.0   \n",
              "9      2             1    1             2      2.0        2.0   25       2.0   \n",
              "\n",
              "   DIABETES  COPD  ...  INMSUPR  HIPERTENSION  OTHER_DISEASE  CARDIOVASCULAR  \\\n",
              "0       2.0   2.0  ...      2.0           1.0            2.0             2.0   \n",
              "1       2.0   2.0  ...      2.0           1.0            2.0             2.0   \n",
              "2       1.0   2.0  ...      2.0           2.0            2.0             2.0   \n",
              "3       2.0   2.0  ...      2.0           2.0            2.0             2.0   \n",
              "4       1.0   2.0  ...      2.0           1.0            2.0             2.0   \n",
              "5       2.0   2.0  ...      2.0           2.0            2.0             2.0   \n",
              "6       2.0   2.0  ...      2.0           2.0            2.0             2.0   \n",
              "7       1.0   2.0  ...      1.0           1.0            2.0             2.0   \n",
              "8       1.0   2.0  ...      2.0           1.0            2.0             2.0   \n",
              "9       2.0   2.0  ...      2.0           2.0            2.0             2.0   \n",
              "\n",
              "   OBESITY  RENAL_CHRONIC  TOBACCO  CLASIFFICATION_FINAL  ICU  DIED  \n",
              "0      2.0            2.0      2.0                     3  NaN     1  \n",
              "1      1.0            1.0      2.0                     5  NaN     1  \n",
              "2      2.0            2.0      2.0                     3  2.0     1  \n",
              "3      2.0            2.0      2.0                     7  NaN     1  \n",
              "4      2.0            2.0      2.0                     3  NaN     1  \n",
              "5      2.0            2.0      2.0                     3  2.0     0  \n",
              "6      2.0            2.0      2.0                     3  NaN     0  \n",
              "7      2.0            1.0      2.0                     3  NaN     0  \n",
              "8      1.0            2.0      2.0                     3  2.0     0  \n",
              "9      2.0            2.0      2.0                     3  2.0     0  \n",
              "\n",
              "[10 rows x 21 columns]"
            ],
            "text/html": [
              "\n",
              "  <div id=\"df-fc7e2de7-01f6-4844-b82c-2c8619b98c90\" class=\"colab-df-container\">\n",
              "    <div>\n",
              "<style scoped>\n",
              "    .dataframe tbody tr th:only-of-type {\n",
              "        vertical-align: middle;\n",
              "    }\n",
              "\n",
              "    .dataframe tbody tr th {\n",
              "        vertical-align: top;\n",
              "    }\n",
              "\n",
              "    .dataframe thead th {\n",
              "        text-align: right;\n",
              "    }\n",
              "</style>\n",
              "<table border=\"1\" class=\"dataframe\">\n",
              "  <thead>\n",
              "    <tr style=\"text-align: right;\">\n",
              "      <th></th>\n",
              "      <th>USMER</th>\n",
              "      <th>MEDICAL_UNIT</th>\n",
              "      <th>SEX</th>\n",
              "      <th>PATIENT_TYPE</th>\n",
              "      <th>INTUBED</th>\n",
              "      <th>PNEUMONIA</th>\n",
              "      <th>AGE</th>\n",
              "      <th>PREGNANT</th>\n",
              "      <th>DIABETES</th>\n",
              "      <th>COPD</th>\n",
              "      <th>...</th>\n",
              "      <th>INMSUPR</th>\n",
              "      <th>HIPERTENSION</th>\n",
              "      <th>OTHER_DISEASE</th>\n",
              "      <th>CARDIOVASCULAR</th>\n",
              "      <th>OBESITY</th>\n",
              "      <th>RENAL_CHRONIC</th>\n",
              "      <th>TOBACCO</th>\n",
              "      <th>CLASIFFICATION_FINAL</th>\n",
              "      <th>ICU</th>\n",
              "      <th>DIED</th>\n",
              "    </tr>\n",
              "  </thead>\n",
              "  <tbody>\n",
              "    <tr>\n",
              "      <th>0</th>\n",
              "      <td>2</td>\n",
              "      <td>1</td>\n",
              "      <td>1</td>\n",
              "      <td>1</td>\n",
              "      <td>NaN</td>\n",
              "      <td>1.0</td>\n",
              "      <td>65</td>\n",
              "      <td>2.0</td>\n",
              "      <td>2.0</td>\n",
              "      <td>2.0</td>\n",
              "      <td>...</td>\n",
              "      <td>2.0</td>\n",
              "      <td>1.0</td>\n",
              "      <td>2.0</td>\n",
              "      <td>2.0</td>\n",
              "      <td>2.0</td>\n",
              "      <td>2.0</td>\n",
              "      <td>2.0</td>\n",
              "      <td>3</td>\n",
              "      <td>NaN</td>\n",
              "      <td>1</td>\n",
              "    </tr>\n",
              "    <tr>\n",
              "      <th>1</th>\n",
              "      <td>2</td>\n",
              "      <td>1</td>\n",
              "      <td>2</td>\n",
              "      <td>1</td>\n",
              "      <td>NaN</td>\n",
              "      <td>1.0</td>\n",
              "      <td>72</td>\n",
              "      <td>NaN</td>\n",
              "      <td>2.0</td>\n",
              "      <td>2.0</td>\n",
              "      <td>...</td>\n",
              "      <td>2.0</td>\n",
              "      <td>1.0</td>\n",
              "      <td>2.0</td>\n",
              "      <td>2.0</td>\n",
              "      <td>1.0</td>\n",
              "      <td>1.0</td>\n",
              "      <td>2.0</td>\n",
              "      <td>5</td>\n",
              "      <td>NaN</td>\n",
              "      <td>1</td>\n",
              "    </tr>\n",
              "    <tr>\n",
              "      <th>2</th>\n",
              "      <td>2</td>\n",
              "      <td>1</td>\n",
              "      <td>2</td>\n",
              "      <td>2</td>\n",
              "      <td>1.0</td>\n",
              "      <td>2.0</td>\n",
              "      <td>55</td>\n",
              "      <td>NaN</td>\n",
              "      <td>1.0</td>\n",
              "      <td>2.0</td>\n",
              "      <td>...</td>\n",
              "      <td>2.0</td>\n",
              "      <td>2.0</td>\n",
              "      <td>2.0</td>\n",
              "      <td>2.0</td>\n",
              "      <td>2.0</td>\n",
              "      <td>2.0</td>\n",
              "      <td>2.0</td>\n",
              "      <td>3</td>\n",
              "      <td>2.0</td>\n",
              "      <td>1</td>\n",
              "    </tr>\n",
              "    <tr>\n",
              "      <th>3</th>\n",
              "      <td>2</td>\n",
              "      <td>1</td>\n",
              "      <td>1</td>\n",
              "      <td>1</td>\n",
              "      <td>NaN</td>\n",
              "      <td>2.0</td>\n",
              "      <td>53</td>\n",
              "      <td>2.0</td>\n",
              "      <td>2.0</td>\n",
              "      <td>2.0</td>\n",
              "      <td>...</td>\n",
              "      <td>2.0</td>\n",
              "      <td>2.0</td>\n",
              "      <td>2.0</td>\n",
              "      <td>2.0</td>\n",
              "      <td>2.0</td>\n",
              "      <td>2.0</td>\n",
              "      <td>2.0</td>\n",
              "      <td>7</td>\n",
              "      <td>NaN</td>\n",
              "      <td>1</td>\n",
              "    </tr>\n",
              "    <tr>\n",
              "      <th>4</th>\n",
              "      <td>2</td>\n",
              "      <td>1</td>\n",
              "      <td>2</td>\n",
              "      <td>1</td>\n",
              "      <td>NaN</td>\n",
              "      <td>2.0</td>\n",
              "      <td>68</td>\n",
              "      <td>NaN</td>\n",
              "      <td>1.0</td>\n",
              "      <td>2.0</td>\n",
              "      <td>...</td>\n",
              "      <td>2.0</td>\n",
              "      <td>1.0</td>\n",
              "      <td>2.0</td>\n",
              "      <td>2.0</td>\n",
              "      <td>2.0</td>\n",
              "      <td>2.0</td>\n",
              "      <td>2.0</td>\n",
              "      <td>3</td>\n",
              "      <td>NaN</td>\n",
              "      <td>1</td>\n",
              "    </tr>\n",
              "    <tr>\n",
              "      <th>5</th>\n",
              "      <td>2</td>\n",
              "      <td>1</td>\n",
              "      <td>1</td>\n",
              "      <td>2</td>\n",
              "      <td>2.0</td>\n",
              "      <td>1.0</td>\n",
              "      <td>40</td>\n",
              "      <td>2.0</td>\n",
              "      <td>2.0</td>\n",
              "      <td>2.0</td>\n",
              "      <td>...</td>\n",
              "      <td>2.0</td>\n",
              "      <td>2.0</td>\n",
              "      <td>2.0</td>\n",
              "      <td>2.0</td>\n",
              "      <td>2.0</td>\n",
              "      <td>2.0</td>\n",
              "      <td>2.0</td>\n",
              "      <td>3</td>\n",
              "      <td>2.0</td>\n",
              "      <td>0</td>\n",
              "    </tr>\n",
              "    <tr>\n",
              "      <th>6</th>\n",
              "      <td>2</td>\n",
              "      <td>1</td>\n",
              "      <td>1</td>\n",
              "      <td>1</td>\n",
              "      <td>NaN</td>\n",
              "      <td>2.0</td>\n",
              "      <td>64</td>\n",
              "      <td>2.0</td>\n",
              "      <td>2.0</td>\n",
              "      <td>2.0</td>\n",
              "      <td>...</td>\n",
              "      <td>2.0</td>\n",
              "      <td>2.0</td>\n",
              "      <td>2.0</td>\n",
              "      <td>2.0</td>\n",
              "      <td>2.0</td>\n",
              "      <td>2.0</td>\n",
              "      <td>2.0</td>\n",
              "      <td>3</td>\n",
              "      <td>NaN</td>\n",
              "      <td>0</td>\n",
              "    </tr>\n",
              "    <tr>\n",
              "      <th>7</th>\n",
              "      <td>2</td>\n",
              "      <td>1</td>\n",
              "      <td>1</td>\n",
              "      <td>1</td>\n",
              "      <td>NaN</td>\n",
              "      <td>1.0</td>\n",
              "      <td>64</td>\n",
              "      <td>2.0</td>\n",
              "      <td>1.0</td>\n",
              "      <td>2.0</td>\n",
              "      <td>...</td>\n",
              "      <td>1.0</td>\n",
              "      <td>1.0</td>\n",
              "      <td>2.0</td>\n",
              "      <td>2.0</td>\n",
              "      <td>2.0</td>\n",
              "      <td>1.0</td>\n",
              "      <td>2.0</td>\n",
              "      <td>3</td>\n",
              "      <td>NaN</td>\n",
              "      <td>0</td>\n",
              "    </tr>\n",
              "    <tr>\n",
              "      <th>8</th>\n",
              "      <td>2</td>\n",
              "      <td>1</td>\n",
              "      <td>1</td>\n",
              "      <td>2</td>\n",
              "      <td>2.0</td>\n",
              "      <td>2.0</td>\n",
              "      <td>37</td>\n",
              "      <td>2.0</td>\n",
              "      <td>1.0</td>\n",
              "      <td>2.0</td>\n",
              "      <td>...</td>\n",
              "      <td>2.0</td>\n",
              "      <td>1.0</td>\n",
              "      <td>2.0</td>\n",
              "      <td>2.0</td>\n",
              "      <td>1.0</td>\n",
              "      <td>2.0</td>\n",
              "      <td>2.0</td>\n",
              "      <td>3</td>\n",
              "      <td>2.0</td>\n",
              "      <td>0</td>\n",
              "    </tr>\n",
              "    <tr>\n",
              "      <th>9</th>\n",
              "      <td>2</td>\n",
              "      <td>1</td>\n",
              "      <td>1</td>\n",
              "      <td>2</td>\n",
              "      <td>2.0</td>\n",
              "      <td>2.0</td>\n",
              "      <td>25</td>\n",
              "      <td>2.0</td>\n",
              "      <td>2.0</td>\n",
              "      <td>2.0</td>\n",
              "      <td>...</td>\n",
              "      <td>2.0</td>\n",
              "      <td>2.0</td>\n",
              "      <td>2.0</td>\n",
              "      <td>2.0</td>\n",
              "      <td>2.0</td>\n",
              "      <td>2.0</td>\n",
              "      <td>2.0</td>\n",
              "      <td>3</td>\n",
              "      <td>2.0</td>\n",
              "      <td>0</td>\n",
              "    </tr>\n",
              "  </tbody>\n",
              "</table>\n",
              "<p>10 rows × 21 columns</p>\n",
              "</div>\n",
              "    <div class=\"colab-df-buttons\">\n",
              "\n",
              "  <div class=\"colab-df-container\">\n",
              "    <button class=\"colab-df-convert\" onclick=\"convertToInteractive('df-fc7e2de7-01f6-4844-b82c-2c8619b98c90')\"\n",
              "            title=\"Convert this dataframe to an interactive table.\"\n",
              "            style=\"display:none;\">\n",
              "\n",
              "  <svg xmlns=\"http://www.w3.org/2000/svg\" height=\"24px\" viewBox=\"0 -960 960 960\">\n",
              "    <path d=\"M120-120v-720h720v720H120Zm60-500h600v-160H180v160Zm220 220h160v-160H400v160Zm0 220h160v-160H400v160ZM180-400h160v-160H180v160Zm440 0h160v-160H620v160ZM180-180h160v-160H180v160Zm440 0h160v-160H620v160Z\"/>\n",
              "  </svg>\n",
              "    </button>\n",
              "\n",
              "  <style>\n",
              "    .colab-df-container {\n",
              "      display:flex;\n",
              "      gap: 12px;\n",
              "    }\n",
              "\n",
              "    .colab-df-convert {\n",
              "      background-color: #E8F0FE;\n",
              "      border: none;\n",
              "      border-radius: 50%;\n",
              "      cursor: pointer;\n",
              "      display: none;\n",
              "      fill: #1967D2;\n",
              "      height: 32px;\n",
              "      padding: 0 0 0 0;\n",
              "      width: 32px;\n",
              "    }\n",
              "\n",
              "    .colab-df-convert:hover {\n",
              "      background-color: #E2EBFA;\n",
              "      box-shadow: 0px 1px 2px rgba(60, 64, 67, 0.3), 0px 1px 3px 1px rgba(60, 64, 67, 0.15);\n",
              "      fill: #174EA6;\n",
              "    }\n",
              "\n",
              "    .colab-df-buttons div {\n",
              "      margin-bottom: 4px;\n",
              "    }\n",
              "\n",
              "    [theme=dark] .colab-df-convert {\n",
              "      background-color: #3B4455;\n",
              "      fill: #D2E3FC;\n",
              "    }\n",
              "\n",
              "    [theme=dark] .colab-df-convert:hover {\n",
              "      background-color: #434B5C;\n",
              "      box-shadow: 0px 1px 3px 1px rgba(0, 0, 0, 0.15);\n",
              "      filter: drop-shadow(0px 1px 2px rgba(0, 0, 0, 0.3));\n",
              "      fill: #FFFFFF;\n",
              "    }\n",
              "  </style>\n",
              "\n",
              "    <script>\n",
              "      const buttonEl =\n",
              "        document.querySelector('#df-fc7e2de7-01f6-4844-b82c-2c8619b98c90 button.colab-df-convert');\n",
              "      buttonEl.style.display =\n",
              "        google.colab.kernel.accessAllowed ? 'block' : 'none';\n",
              "\n",
              "      async function convertToInteractive(key) {\n",
              "        const element = document.querySelector('#df-fc7e2de7-01f6-4844-b82c-2c8619b98c90');\n",
              "        const dataTable =\n",
              "          await google.colab.kernel.invokeFunction('convertToInteractive',\n",
              "                                                    [key], {});\n",
              "        if (!dataTable) return;\n",
              "\n",
              "        const docLinkHtml = 'Like what you see? Visit the ' +\n",
              "          '<a target=\"_blank\" href=https://colab.research.google.com/notebooks/data_table.ipynb>data table notebook</a>'\n",
              "          + ' to learn more about interactive tables.';\n",
              "        element.innerHTML = '';\n",
              "        dataTable['output_type'] = 'display_data';\n",
              "        await google.colab.output.renderOutput(dataTable, element);\n",
              "        const docLink = document.createElement('div');\n",
              "        docLink.innerHTML = docLinkHtml;\n",
              "        element.appendChild(docLink);\n",
              "      }\n",
              "    </script>\n",
              "  </div>\n",
              "\n",
              "\n",
              "<div id=\"df-99d8b5af-aeda-4523-a95e-a4a4945b97ce\">\n",
              "  <button class=\"colab-df-quickchart\" onclick=\"quickchart('df-99d8b5af-aeda-4523-a95e-a4a4945b97ce')\"\n",
              "            title=\"Suggest charts\"\n",
              "            style=\"display:none;\">\n",
              "\n",
              "<svg xmlns=\"http://www.w3.org/2000/svg\" height=\"24px\"viewBox=\"0 0 24 24\"\n",
              "     width=\"24px\">\n",
              "    <g>\n",
              "        <path d=\"M19 3H5c-1.1 0-2 .9-2 2v14c0 1.1.9 2 2 2h14c1.1 0 2-.9 2-2V5c0-1.1-.9-2-2-2zM9 17H7v-7h2v7zm4 0h-2V7h2v10zm4 0h-2v-4h2v4z\"/>\n",
              "    </g>\n",
              "</svg>\n",
              "  </button>\n",
              "\n",
              "<style>\n",
              "  .colab-df-quickchart {\n",
              "      --bg-color: #E8F0FE;\n",
              "      --fill-color: #1967D2;\n",
              "      --hover-bg-color: #E2EBFA;\n",
              "      --hover-fill-color: #174EA6;\n",
              "      --disabled-fill-color: #AAA;\n",
              "      --disabled-bg-color: #DDD;\n",
              "  }\n",
              "\n",
              "  [theme=dark] .colab-df-quickchart {\n",
              "      --bg-color: #3B4455;\n",
              "      --fill-color: #D2E3FC;\n",
              "      --hover-bg-color: #434B5C;\n",
              "      --hover-fill-color: #FFFFFF;\n",
              "      --disabled-bg-color: #3B4455;\n",
              "      --disabled-fill-color: #666;\n",
              "  }\n",
              "\n",
              "  .colab-df-quickchart {\n",
              "    background-color: var(--bg-color);\n",
              "    border: none;\n",
              "    border-radius: 50%;\n",
              "    cursor: pointer;\n",
              "    display: none;\n",
              "    fill: var(--fill-color);\n",
              "    height: 32px;\n",
              "    padding: 0;\n",
              "    width: 32px;\n",
              "  }\n",
              "\n",
              "  .colab-df-quickchart:hover {\n",
              "    background-color: var(--hover-bg-color);\n",
              "    box-shadow: 0 1px 2px rgba(60, 64, 67, 0.3), 0 1px 3px 1px rgba(60, 64, 67, 0.15);\n",
              "    fill: var(--button-hover-fill-color);\n",
              "  }\n",
              "\n",
              "  .colab-df-quickchart-complete:disabled,\n",
              "  .colab-df-quickchart-complete:disabled:hover {\n",
              "    background-color: var(--disabled-bg-color);\n",
              "    fill: var(--disabled-fill-color);\n",
              "    box-shadow: none;\n",
              "  }\n",
              "\n",
              "  .colab-df-spinner {\n",
              "    border: 2px solid var(--fill-color);\n",
              "    border-color: transparent;\n",
              "    border-bottom-color: var(--fill-color);\n",
              "    animation:\n",
              "      spin 1s steps(1) infinite;\n",
              "  }\n",
              "\n",
              "  @keyframes spin {\n",
              "    0% {\n",
              "      border-color: transparent;\n",
              "      border-bottom-color: var(--fill-color);\n",
              "      border-left-color: var(--fill-color);\n",
              "    }\n",
              "    20% {\n",
              "      border-color: transparent;\n",
              "      border-left-color: var(--fill-color);\n",
              "      border-top-color: var(--fill-color);\n",
              "    }\n",
              "    30% {\n",
              "      border-color: transparent;\n",
              "      border-left-color: var(--fill-color);\n",
              "      border-top-color: var(--fill-color);\n",
              "      border-right-color: var(--fill-color);\n",
              "    }\n",
              "    40% {\n",
              "      border-color: transparent;\n",
              "      border-right-color: var(--fill-color);\n",
              "      border-top-color: var(--fill-color);\n",
              "    }\n",
              "    60% {\n",
              "      border-color: transparent;\n",
              "      border-right-color: var(--fill-color);\n",
              "    }\n",
              "    80% {\n",
              "      border-color: transparent;\n",
              "      border-right-color: var(--fill-color);\n",
              "      border-bottom-color: var(--fill-color);\n",
              "    }\n",
              "    90% {\n",
              "      border-color: transparent;\n",
              "      border-bottom-color: var(--fill-color);\n",
              "    }\n",
              "  }\n",
              "</style>\n",
              "\n",
              "  <script>\n",
              "    async function quickchart(key) {\n",
              "      const quickchartButtonEl =\n",
              "        document.querySelector('#' + key + ' button');\n",
              "      quickchartButtonEl.disabled = true;  // To prevent multiple clicks.\n",
              "      quickchartButtonEl.classList.add('colab-df-spinner');\n",
              "      try {\n",
              "        const charts = await google.colab.kernel.invokeFunction(\n",
              "            'suggestCharts', [key], {});\n",
              "      } catch (error) {\n",
              "        console.error('Error during call to suggestCharts:', error);\n",
              "      }\n",
              "      quickchartButtonEl.classList.remove('colab-df-spinner');\n",
              "      quickchartButtonEl.classList.add('colab-df-quickchart-complete');\n",
              "    }\n",
              "    (() => {\n",
              "      let quickchartButtonEl =\n",
              "        document.querySelector('#df-99d8b5af-aeda-4523-a95e-a4a4945b97ce button');\n",
              "      quickchartButtonEl.style.display =\n",
              "        google.colab.kernel.accessAllowed ? 'block' : 'none';\n",
              "    })();\n",
              "  </script>\n",
              "</div>\n",
              "\n",
              "    </div>\n",
              "  </div>\n"
            ],
            "application/vnd.google.colaboratory.intrinsic+json": {
              "type": "dataframe",
              "variable_name": "df"
            }
          },
          "metadata": {},
          "execution_count": 12
        }
      ]
    },
    {
      "cell_type": "code",
      "source": [
        "df.info()"
      ],
      "metadata": {
        "execution": {
          "iopub.status.busy": "2023-05-31T07:34:08.022067Z",
          "iopub.execute_input": "2023-05-31T07:34:08.023016Z",
          "iopub.status.idle": "2023-05-31T07:34:08.076937Z",
          "shell.execute_reply.started": "2023-05-31T07:34:08.022971Z",
          "shell.execute_reply": "2023-05-31T07:34:08.075727Z"
        },
        "trusted": true,
        "colab": {
          "base_uri": "https://localhost:8080/"
        },
        "id": "6jIjfPr2LXo1",
        "outputId": "4644d86e-d990-4e28-f226-c93839f9b9ef"
      },
      "execution_count": 13,
      "outputs": [
        {
          "output_type": "stream",
          "name": "stdout",
          "text": [
            "<class 'pandas.core.frame.DataFrame'>\n",
            "RangeIndex: 1048575 entries, 0 to 1048574\n",
            "Data columns (total 21 columns):\n",
            " #   Column                Non-Null Count    Dtype  \n",
            "---  ------                --------------    -----  \n",
            " 0   USMER                 1048575 non-null  int64  \n",
            " 1   MEDICAL_UNIT          1048575 non-null  int64  \n",
            " 2   SEX                   1048575 non-null  int64  \n",
            " 3   PATIENT_TYPE          1048575 non-null  int64  \n",
            " 4   INTUBED               192706 non-null   float64\n",
            " 5   PNEUMONIA             1032572 non-null  float64\n",
            " 6   AGE                   1048575 non-null  int64  \n",
            " 7   PREGNANT              521310 non-null   float64\n",
            " 8   DIABETES              1045237 non-null  float64\n",
            " 9   COPD                  1045572 non-null  float64\n",
            " 10  ASTHMA                1045596 non-null  float64\n",
            " 11  INMSUPR               1045171 non-null  float64\n",
            " 12  HIPERTENSION          1045471 non-null  float64\n",
            " 13  OTHER_DISEASE         1043530 non-null  float64\n",
            " 14  CARDIOVASCULAR        1045499 non-null  float64\n",
            " 15  OBESITY               1045543 non-null  float64\n",
            " 16  RENAL_CHRONIC         1045569 non-null  float64\n",
            " 17  TOBACCO               1045355 non-null  float64\n",
            " 18  CLASIFFICATION_FINAL  1048575 non-null  int64  \n",
            " 19  ICU                   192543 non-null   float64\n",
            " 20  DIED                  1048575 non-null  int64  \n",
            "dtypes: float64(14), int64(7)\n",
            "memory usage: 168.0 MB\n"
          ]
        }
      ]
    },
    {
      "cell_type": "code",
      "source": [
        "df.describe()"
      ],
      "metadata": {
        "execution": {
          "iopub.status.busy": "2023-05-31T07:34:08.078474Z",
          "iopub.execute_input": "2023-05-31T07:34:08.078917Z",
          "iopub.status.idle": "2023-05-31T07:34:09.136007Z",
          "shell.execute_reply.started": "2023-05-31T07:34:08.078876Z",
          "shell.execute_reply": "2023-05-31T07:34:09.134339Z"
        },
        "trusted": true,
        "colab": {
          "base_uri": "https://localhost:8080/",
          "height": 350
        },
        "id": "w2WkZEotLXo1",
        "outputId": "4f7135ae-3cf8-4831-8015-860360bd176a"
      },
      "execution_count": 14,
      "outputs": [
        {
          "output_type": "execute_result",
          "data": {
            "text/plain": [
              "              USMER  MEDICAL_UNIT           SEX  PATIENT_TYPE        INTUBED  \\\n",
              "count  1.048575e+06  1.048575e+06  1.048575e+06  1.048575e+06  192706.000000   \n",
              "mean   1.632194e+00  8.980565e+00  1.499259e+00  1.190765e+00       1.825351   \n",
              "std    4.822084e-01  3.723278e+00  4.999997e-01  3.929041e-01       0.379668   \n",
              "min    1.000000e+00  1.000000e+00  1.000000e+00  1.000000e+00       1.000000   \n",
              "25%    1.000000e+00  4.000000e+00  1.000000e+00  1.000000e+00       2.000000   \n",
              "50%    2.000000e+00  1.200000e+01  1.000000e+00  1.000000e+00       2.000000   \n",
              "75%    2.000000e+00  1.200000e+01  2.000000e+00  1.000000e+00       2.000000   \n",
              "max    2.000000e+00  1.300000e+01  2.000000e+00  2.000000e+00       2.000000   \n",
              "\n",
              "          PNEUMONIA           AGE       PREGNANT      DIABETES          COPD  \\\n",
              "count  1.032572e+06  1.048575e+06  521310.000000  1.045237e+06  1.045572e+06   \n",
              "mean   1.864379e+00  4.179410e+01       1.984403  1.880420e+00  1.985594e+00   \n",
              "std    3.423854e-01  1.690739e+01       0.123911  3.244694e-01  1.191554e-01   \n",
              "min    1.000000e+00  0.000000e+00       1.000000  1.000000e+00  1.000000e+00   \n",
              "25%    2.000000e+00  3.000000e+01       2.000000  2.000000e+00  2.000000e+00   \n",
              "50%    2.000000e+00  4.000000e+01       2.000000  2.000000e+00  2.000000e+00   \n",
              "75%    2.000000e+00  5.300000e+01       2.000000  2.000000e+00  2.000000e+00   \n",
              "max    2.000000e+00  1.210000e+02       2.000000  2.000000e+00  2.000000e+00   \n",
              "\n",
              "       ...       INMSUPR  HIPERTENSION  OTHER_DISEASE  CARDIOVASCULAR  \\\n",
              "count  ...  1.045171e+06  1.045471e+06   1.043530e+06    1.045499e+06   \n",
              "mean   ...  1.986442e+00  1.844349e+00   1.973130e+00    1.980135e+00   \n",
              "std    ...  1.156451e-01  3.625247e-01   1.617045e-01    1.395369e-01   \n",
              "min    ...  1.000000e+00  1.000000e+00   1.000000e+00    1.000000e+00   \n",
              "25%    ...  2.000000e+00  2.000000e+00   2.000000e+00    2.000000e+00   \n",
              "50%    ...  2.000000e+00  2.000000e+00   2.000000e+00    2.000000e+00   \n",
              "75%    ...  2.000000e+00  2.000000e+00   2.000000e+00    2.000000e+00   \n",
              "max    ...  2.000000e+00  2.000000e+00   2.000000e+00    2.000000e+00   \n",
              "\n",
              "            OBESITY  RENAL_CHRONIC       TOBACCO  CLASIFFICATION_FINAL  \\\n",
              "count  1.045543e+06   1.045569e+06  1.045355e+06          1.048575e+06   \n",
              "mean   1.847145e+00   1.981920e+00  1.919285e+00          5.305653e+00   \n",
              "std    3.598474e-01   1.332413e-01  2.723973e-01          1.881165e+00   \n",
              "min    1.000000e+00   1.000000e+00  1.000000e+00          1.000000e+00   \n",
              "25%    2.000000e+00   2.000000e+00  2.000000e+00          3.000000e+00   \n",
              "50%    2.000000e+00   2.000000e+00  2.000000e+00          6.000000e+00   \n",
              "75%    2.000000e+00   2.000000e+00  2.000000e+00          7.000000e+00   \n",
              "max    2.000000e+00   2.000000e+00  2.000000e+00          7.000000e+00   \n",
              "\n",
              "                 ICU          DIED  \n",
              "count  192543.000000  1.048575e+06  \n",
              "mean        1.912446  7.337768e-02  \n",
              "std         0.282647  2.607556e-01  \n",
              "min         1.000000  0.000000e+00  \n",
              "25%         2.000000  0.000000e+00  \n",
              "50%         2.000000  0.000000e+00  \n",
              "75%         2.000000  0.000000e+00  \n",
              "max         2.000000  1.000000e+00  \n",
              "\n",
              "[8 rows x 21 columns]"
            ],
            "text/html": [
              "\n",
              "  <div id=\"df-1c43ed8e-8974-464e-9903-5f8916625e1f\" class=\"colab-df-container\">\n",
              "    <div>\n",
              "<style scoped>\n",
              "    .dataframe tbody tr th:only-of-type {\n",
              "        vertical-align: middle;\n",
              "    }\n",
              "\n",
              "    .dataframe tbody tr th {\n",
              "        vertical-align: top;\n",
              "    }\n",
              "\n",
              "    .dataframe thead th {\n",
              "        text-align: right;\n",
              "    }\n",
              "</style>\n",
              "<table border=\"1\" class=\"dataframe\">\n",
              "  <thead>\n",
              "    <tr style=\"text-align: right;\">\n",
              "      <th></th>\n",
              "      <th>USMER</th>\n",
              "      <th>MEDICAL_UNIT</th>\n",
              "      <th>SEX</th>\n",
              "      <th>PATIENT_TYPE</th>\n",
              "      <th>INTUBED</th>\n",
              "      <th>PNEUMONIA</th>\n",
              "      <th>AGE</th>\n",
              "      <th>PREGNANT</th>\n",
              "      <th>DIABETES</th>\n",
              "      <th>COPD</th>\n",
              "      <th>...</th>\n",
              "      <th>INMSUPR</th>\n",
              "      <th>HIPERTENSION</th>\n",
              "      <th>OTHER_DISEASE</th>\n",
              "      <th>CARDIOVASCULAR</th>\n",
              "      <th>OBESITY</th>\n",
              "      <th>RENAL_CHRONIC</th>\n",
              "      <th>TOBACCO</th>\n",
              "      <th>CLASIFFICATION_FINAL</th>\n",
              "      <th>ICU</th>\n",
              "      <th>DIED</th>\n",
              "    </tr>\n",
              "  </thead>\n",
              "  <tbody>\n",
              "    <tr>\n",
              "      <th>count</th>\n",
              "      <td>1.048575e+06</td>\n",
              "      <td>1.048575e+06</td>\n",
              "      <td>1.048575e+06</td>\n",
              "      <td>1.048575e+06</td>\n",
              "      <td>192706.000000</td>\n",
              "      <td>1.032572e+06</td>\n",
              "      <td>1.048575e+06</td>\n",
              "      <td>521310.000000</td>\n",
              "      <td>1.045237e+06</td>\n",
              "      <td>1.045572e+06</td>\n",
              "      <td>...</td>\n",
              "      <td>1.045171e+06</td>\n",
              "      <td>1.045471e+06</td>\n",
              "      <td>1.043530e+06</td>\n",
              "      <td>1.045499e+06</td>\n",
              "      <td>1.045543e+06</td>\n",
              "      <td>1.045569e+06</td>\n",
              "      <td>1.045355e+06</td>\n",
              "      <td>1.048575e+06</td>\n",
              "      <td>192543.000000</td>\n",
              "      <td>1.048575e+06</td>\n",
              "    </tr>\n",
              "    <tr>\n",
              "      <th>mean</th>\n",
              "      <td>1.632194e+00</td>\n",
              "      <td>8.980565e+00</td>\n",
              "      <td>1.499259e+00</td>\n",
              "      <td>1.190765e+00</td>\n",
              "      <td>1.825351</td>\n",
              "      <td>1.864379e+00</td>\n",
              "      <td>4.179410e+01</td>\n",
              "      <td>1.984403</td>\n",
              "      <td>1.880420e+00</td>\n",
              "      <td>1.985594e+00</td>\n",
              "      <td>...</td>\n",
              "      <td>1.986442e+00</td>\n",
              "      <td>1.844349e+00</td>\n",
              "      <td>1.973130e+00</td>\n",
              "      <td>1.980135e+00</td>\n",
              "      <td>1.847145e+00</td>\n",
              "      <td>1.981920e+00</td>\n",
              "      <td>1.919285e+00</td>\n",
              "      <td>5.305653e+00</td>\n",
              "      <td>1.912446</td>\n",
              "      <td>7.337768e-02</td>\n",
              "    </tr>\n",
              "    <tr>\n",
              "      <th>std</th>\n",
              "      <td>4.822084e-01</td>\n",
              "      <td>3.723278e+00</td>\n",
              "      <td>4.999997e-01</td>\n",
              "      <td>3.929041e-01</td>\n",
              "      <td>0.379668</td>\n",
              "      <td>3.423854e-01</td>\n",
              "      <td>1.690739e+01</td>\n",
              "      <td>0.123911</td>\n",
              "      <td>3.244694e-01</td>\n",
              "      <td>1.191554e-01</td>\n",
              "      <td>...</td>\n",
              "      <td>1.156451e-01</td>\n",
              "      <td>3.625247e-01</td>\n",
              "      <td>1.617045e-01</td>\n",
              "      <td>1.395369e-01</td>\n",
              "      <td>3.598474e-01</td>\n",
              "      <td>1.332413e-01</td>\n",
              "      <td>2.723973e-01</td>\n",
              "      <td>1.881165e+00</td>\n",
              "      <td>0.282647</td>\n",
              "      <td>2.607556e-01</td>\n",
              "    </tr>\n",
              "    <tr>\n",
              "      <th>min</th>\n",
              "      <td>1.000000e+00</td>\n",
              "      <td>1.000000e+00</td>\n",
              "      <td>1.000000e+00</td>\n",
              "      <td>1.000000e+00</td>\n",
              "      <td>1.000000</td>\n",
              "      <td>1.000000e+00</td>\n",
              "      <td>0.000000e+00</td>\n",
              "      <td>1.000000</td>\n",
              "      <td>1.000000e+00</td>\n",
              "      <td>1.000000e+00</td>\n",
              "      <td>...</td>\n",
              "      <td>1.000000e+00</td>\n",
              "      <td>1.000000e+00</td>\n",
              "      <td>1.000000e+00</td>\n",
              "      <td>1.000000e+00</td>\n",
              "      <td>1.000000e+00</td>\n",
              "      <td>1.000000e+00</td>\n",
              "      <td>1.000000e+00</td>\n",
              "      <td>1.000000e+00</td>\n",
              "      <td>1.000000</td>\n",
              "      <td>0.000000e+00</td>\n",
              "    </tr>\n",
              "    <tr>\n",
              "      <th>25%</th>\n",
              "      <td>1.000000e+00</td>\n",
              "      <td>4.000000e+00</td>\n",
              "      <td>1.000000e+00</td>\n",
              "      <td>1.000000e+00</td>\n",
              "      <td>2.000000</td>\n",
              "      <td>2.000000e+00</td>\n",
              "      <td>3.000000e+01</td>\n",
              "      <td>2.000000</td>\n",
              "      <td>2.000000e+00</td>\n",
              "      <td>2.000000e+00</td>\n",
              "      <td>...</td>\n",
              "      <td>2.000000e+00</td>\n",
              "      <td>2.000000e+00</td>\n",
              "      <td>2.000000e+00</td>\n",
              "      <td>2.000000e+00</td>\n",
              "      <td>2.000000e+00</td>\n",
              "      <td>2.000000e+00</td>\n",
              "      <td>2.000000e+00</td>\n",
              "      <td>3.000000e+00</td>\n",
              "      <td>2.000000</td>\n",
              "      <td>0.000000e+00</td>\n",
              "    </tr>\n",
              "    <tr>\n",
              "      <th>50%</th>\n",
              "      <td>2.000000e+00</td>\n",
              "      <td>1.200000e+01</td>\n",
              "      <td>1.000000e+00</td>\n",
              "      <td>1.000000e+00</td>\n",
              "      <td>2.000000</td>\n",
              "      <td>2.000000e+00</td>\n",
              "      <td>4.000000e+01</td>\n",
              "      <td>2.000000</td>\n",
              "      <td>2.000000e+00</td>\n",
              "      <td>2.000000e+00</td>\n",
              "      <td>...</td>\n",
              "      <td>2.000000e+00</td>\n",
              "      <td>2.000000e+00</td>\n",
              "      <td>2.000000e+00</td>\n",
              "      <td>2.000000e+00</td>\n",
              "      <td>2.000000e+00</td>\n",
              "      <td>2.000000e+00</td>\n",
              "      <td>2.000000e+00</td>\n",
              "      <td>6.000000e+00</td>\n",
              "      <td>2.000000</td>\n",
              "      <td>0.000000e+00</td>\n",
              "    </tr>\n",
              "    <tr>\n",
              "      <th>75%</th>\n",
              "      <td>2.000000e+00</td>\n",
              "      <td>1.200000e+01</td>\n",
              "      <td>2.000000e+00</td>\n",
              "      <td>1.000000e+00</td>\n",
              "      <td>2.000000</td>\n",
              "      <td>2.000000e+00</td>\n",
              "      <td>5.300000e+01</td>\n",
              "      <td>2.000000</td>\n",
              "      <td>2.000000e+00</td>\n",
              "      <td>2.000000e+00</td>\n",
              "      <td>...</td>\n",
              "      <td>2.000000e+00</td>\n",
              "      <td>2.000000e+00</td>\n",
              "      <td>2.000000e+00</td>\n",
              "      <td>2.000000e+00</td>\n",
              "      <td>2.000000e+00</td>\n",
              "      <td>2.000000e+00</td>\n",
              "      <td>2.000000e+00</td>\n",
              "      <td>7.000000e+00</td>\n",
              "      <td>2.000000</td>\n",
              "      <td>0.000000e+00</td>\n",
              "    </tr>\n",
              "    <tr>\n",
              "      <th>max</th>\n",
              "      <td>2.000000e+00</td>\n",
              "      <td>1.300000e+01</td>\n",
              "      <td>2.000000e+00</td>\n",
              "      <td>2.000000e+00</td>\n",
              "      <td>2.000000</td>\n",
              "      <td>2.000000e+00</td>\n",
              "      <td>1.210000e+02</td>\n",
              "      <td>2.000000</td>\n",
              "      <td>2.000000e+00</td>\n",
              "      <td>2.000000e+00</td>\n",
              "      <td>...</td>\n",
              "      <td>2.000000e+00</td>\n",
              "      <td>2.000000e+00</td>\n",
              "      <td>2.000000e+00</td>\n",
              "      <td>2.000000e+00</td>\n",
              "      <td>2.000000e+00</td>\n",
              "      <td>2.000000e+00</td>\n",
              "      <td>2.000000e+00</td>\n",
              "      <td>7.000000e+00</td>\n",
              "      <td>2.000000</td>\n",
              "      <td>1.000000e+00</td>\n",
              "    </tr>\n",
              "  </tbody>\n",
              "</table>\n",
              "<p>8 rows × 21 columns</p>\n",
              "</div>\n",
              "    <div class=\"colab-df-buttons\">\n",
              "\n",
              "  <div class=\"colab-df-container\">\n",
              "    <button class=\"colab-df-convert\" onclick=\"convertToInteractive('df-1c43ed8e-8974-464e-9903-5f8916625e1f')\"\n",
              "            title=\"Convert this dataframe to an interactive table.\"\n",
              "            style=\"display:none;\">\n",
              "\n",
              "  <svg xmlns=\"http://www.w3.org/2000/svg\" height=\"24px\" viewBox=\"0 -960 960 960\">\n",
              "    <path d=\"M120-120v-720h720v720H120Zm60-500h600v-160H180v160Zm220 220h160v-160H400v160Zm0 220h160v-160H400v160ZM180-400h160v-160H180v160Zm440 0h160v-160H620v160ZM180-180h160v-160H180v160Zm440 0h160v-160H620v160Z\"/>\n",
              "  </svg>\n",
              "    </button>\n",
              "\n",
              "  <style>\n",
              "    .colab-df-container {\n",
              "      display:flex;\n",
              "      gap: 12px;\n",
              "    }\n",
              "\n",
              "    .colab-df-convert {\n",
              "      background-color: #E8F0FE;\n",
              "      border: none;\n",
              "      border-radius: 50%;\n",
              "      cursor: pointer;\n",
              "      display: none;\n",
              "      fill: #1967D2;\n",
              "      height: 32px;\n",
              "      padding: 0 0 0 0;\n",
              "      width: 32px;\n",
              "    }\n",
              "\n",
              "    .colab-df-convert:hover {\n",
              "      background-color: #E2EBFA;\n",
              "      box-shadow: 0px 1px 2px rgba(60, 64, 67, 0.3), 0px 1px 3px 1px rgba(60, 64, 67, 0.15);\n",
              "      fill: #174EA6;\n",
              "    }\n",
              "\n",
              "    .colab-df-buttons div {\n",
              "      margin-bottom: 4px;\n",
              "    }\n",
              "\n",
              "    [theme=dark] .colab-df-convert {\n",
              "      background-color: #3B4455;\n",
              "      fill: #D2E3FC;\n",
              "    }\n",
              "\n",
              "    [theme=dark] .colab-df-convert:hover {\n",
              "      background-color: #434B5C;\n",
              "      box-shadow: 0px 1px 3px 1px rgba(0, 0, 0, 0.15);\n",
              "      filter: drop-shadow(0px 1px 2px rgba(0, 0, 0, 0.3));\n",
              "      fill: #FFFFFF;\n",
              "    }\n",
              "  </style>\n",
              "\n",
              "    <script>\n",
              "      const buttonEl =\n",
              "        document.querySelector('#df-1c43ed8e-8974-464e-9903-5f8916625e1f button.colab-df-convert');\n",
              "      buttonEl.style.display =\n",
              "        google.colab.kernel.accessAllowed ? 'block' : 'none';\n",
              "\n",
              "      async function convertToInteractive(key) {\n",
              "        const element = document.querySelector('#df-1c43ed8e-8974-464e-9903-5f8916625e1f');\n",
              "        const dataTable =\n",
              "          await google.colab.kernel.invokeFunction('convertToInteractive',\n",
              "                                                    [key], {});\n",
              "        if (!dataTable) return;\n",
              "\n",
              "        const docLinkHtml = 'Like what you see? Visit the ' +\n",
              "          '<a target=\"_blank\" href=https://colab.research.google.com/notebooks/data_table.ipynb>data table notebook</a>'\n",
              "          + ' to learn more about interactive tables.';\n",
              "        element.innerHTML = '';\n",
              "        dataTable['output_type'] = 'display_data';\n",
              "        await google.colab.output.renderOutput(dataTable, element);\n",
              "        const docLink = document.createElement('div');\n",
              "        docLink.innerHTML = docLinkHtml;\n",
              "        element.appendChild(docLink);\n",
              "      }\n",
              "    </script>\n",
              "  </div>\n",
              "\n",
              "\n",
              "<div id=\"df-5d586f5b-d283-446a-a982-3c5041e627ee\">\n",
              "  <button class=\"colab-df-quickchart\" onclick=\"quickchart('df-5d586f5b-d283-446a-a982-3c5041e627ee')\"\n",
              "            title=\"Suggest charts\"\n",
              "            style=\"display:none;\">\n",
              "\n",
              "<svg xmlns=\"http://www.w3.org/2000/svg\" height=\"24px\"viewBox=\"0 0 24 24\"\n",
              "     width=\"24px\">\n",
              "    <g>\n",
              "        <path d=\"M19 3H5c-1.1 0-2 .9-2 2v14c0 1.1.9 2 2 2h14c1.1 0 2-.9 2-2V5c0-1.1-.9-2-2-2zM9 17H7v-7h2v7zm4 0h-2V7h2v10zm4 0h-2v-4h2v4z\"/>\n",
              "    </g>\n",
              "</svg>\n",
              "  </button>\n",
              "\n",
              "<style>\n",
              "  .colab-df-quickchart {\n",
              "      --bg-color: #E8F0FE;\n",
              "      --fill-color: #1967D2;\n",
              "      --hover-bg-color: #E2EBFA;\n",
              "      --hover-fill-color: #174EA6;\n",
              "      --disabled-fill-color: #AAA;\n",
              "      --disabled-bg-color: #DDD;\n",
              "  }\n",
              "\n",
              "  [theme=dark] .colab-df-quickchart {\n",
              "      --bg-color: #3B4455;\n",
              "      --fill-color: #D2E3FC;\n",
              "      --hover-bg-color: #434B5C;\n",
              "      --hover-fill-color: #FFFFFF;\n",
              "      --disabled-bg-color: #3B4455;\n",
              "      --disabled-fill-color: #666;\n",
              "  }\n",
              "\n",
              "  .colab-df-quickchart {\n",
              "    background-color: var(--bg-color);\n",
              "    border: none;\n",
              "    border-radius: 50%;\n",
              "    cursor: pointer;\n",
              "    display: none;\n",
              "    fill: var(--fill-color);\n",
              "    height: 32px;\n",
              "    padding: 0;\n",
              "    width: 32px;\n",
              "  }\n",
              "\n",
              "  .colab-df-quickchart:hover {\n",
              "    background-color: var(--hover-bg-color);\n",
              "    box-shadow: 0 1px 2px rgba(60, 64, 67, 0.3), 0 1px 3px 1px rgba(60, 64, 67, 0.15);\n",
              "    fill: var(--button-hover-fill-color);\n",
              "  }\n",
              "\n",
              "  .colab-df-quickchart-complete:disabled,\n",
              "  .colab-df-quickchart-complete:disabled:hover {\n",
              "    background-color: var(--disabled-bg-color);\n",
              "    fill: var(--disabled-fill-color);\n",
              "    box-shadow: none;\n",
              "  }\n",
              "\n",
              "  .colab-df-spinner {\n",
              "    border: 2px solid var(--fill-color);\n",
              "    border-color: transparent;\n",
              "    border-bottom-color: var(--fill-color);\n",
              "    animation:\n",
              "      spin 1s steps(1) infinite;\n",
              "  }\n",
              "\n",
              "  @keyframes spin {\n",
              "    0% {\n",
              "      border-color: transparent;\n",
              "      border-bottom-color: var(--fill-color);\n",
              "      border-left-color: var(--fill-color);\n",
              "    }\n",
              "    20% {\n",
              "      border-color: transparent;\n",
              "      border-left-color: var(--fill-color);\n",
              "      border-top-color: var(--fill-color);\n",
              "    }\n",
              "    30% {\n",
              "      border-color: transparent;\n",
              "      border-left-color: var(--fill-color);\n",
              "      border-top-color: var(--fill-color);\n",
              "      border-right-color: var(--fill-color);\n",
              "    }\n",
              "    40% {\n",
              "      border-color: transparent;\n",
              "      border-right-color: var(--fill-color);\n",
              "      border-top-color: var(--fill-color);\n",
              "    }\n",
              "    60% {\n",
              "      border-color: transparent;\n",
              "      border-right-color: var(--fill-color);\n",
              "    }\n",
              "    80% {\n",
              "      border-color: transparent;\n",
              "      border-right-color: var(--fill-color);\n",
              "      border-bottom-color: var(--fill-color);\n",
              "    }\n",
              "    90% {\n",
              "      border-color: transparent;\n",
              "      border-bottom-color: var(--fill-color);\n",
              "    }\n",
              "  }\n",
              "</style>\n",
              "\n",
              "  <script>\n",
              "    async function quickchart(key) {\n",
              "      const quickchartButtonEl =\n",
              "        document.querySelector('#' + key + ' button');\n",
              "      quickchartButtonEl.disabled = true;  // To prevent multiple clicks.\n",
              "      quickchartButtonEl.classList.add('colab-df-spinner');\n",
              "      try {\n",
              "        const charts = await google.colab.kernel.invokeFunction(\n",
              "            'suggestCharts', [key], {});\n",
              "      } catch (error) {\n",
              "        console.error('Error during call to suggestCharts:', error);\n",
              "      }\n",
              "      quickchartButtonEl.classList.remove('colab-df-spinner');\n",
              "      quickchartButtonEl.classList.add('colab-df-quickchart-complete');\n",
              "    }\n",
              "    (() => {\n",
              "      let quickchartButtonEl =\n",
              "        document.querySelector('#df-5d586f5b-d283-446a-a982-3c5041e627ee button');\n",
              "      quickchartButtonEl.style.display =\n",
              "        google.colab.kernel.accessAllowed ? 'block' : 'none';\n",
              "    })();\n",
              "  </script>\n",
              "</div>\n",
              "\n",
              "    </div>\n",
              "  </div>\n"
            ],
            "application/vnd.google.colaboratory.intrinsic+json": {
              "type": "dataframe"
            }
          },
          "metadata": {},
          "execution_count": 14
        }
      ]
    },
    {
      "cell_type": "markdown",
      "source": [
        "Assessing that the number of non-NA unique values for each categorical variable matches the expectations. Specifically for the binary categories, we expect to see only two unique values."
      ],
      "metadata": {
        "id": "o5rOO0TZLXo1"
      }
    },
    {
      "cell_type": "code",
      "source": [
        "df.nunique()"
      ],
      "metadata": {
        "execution": {
          "iopub.status.busy": "2023-05-31T07:34:09.138595Z",
          "iopub.execute_input": "2023-05-31T07:34:09.13906Z",
          "iopub.status.idle": "2023-05-31T07:34:09.346165Z",
          "shell.execute_reply.started": "2023-05-31T07:34:09.139019Z",
          "shell.execute_reply": "2023-05-31T07:34:09.345157Z"
        },
        "trusted": true,
        "colab": {
          "base_uri": "https://localhost:8080/",
          "height": 743
        },
        "id": "pKi4SR3uLXo2",
        "outputId": "3cf54561-ef61-48a2-b13e-343382d3adc3"
      },
      "execution_count": 15,
      "outputs": [
        {
          "output_type": "execute_result",
          "data": {
            "text/plain": [
              "USMER                     2\n",
              "MEDICAL_UNIT             13\n",
              "SEX                       2\n",
              "PATIENT_TYPE              2\n",
              "INTUBED                   2\n",
              "PNEUMONIA                 2\n",
              "AGE                     121\n",
              "PREGNANT                  2\n",
              "DIABETES                  2\n",
              "COPD                      2\n",
              "ASTHMA                    2\n",
              "INMSUPR                   2\n",
              "HIPERTENSION              2\n",
              "OTHER_DISEASE             2\n",
              "CARDIOVASCULAR            2\n",
              "OBESITY                   2\n",
              "RENAL_CHRONIC             2\n",
              "TOBACCO                   2\n",
              "CLASIFFICATION_FINAL      7\n",
              "ICU                       2\n",
              "DIED                      2\n",
              "dtype: int64"
            ],
            "text/html": [
              "<div>\n",
              "<style scoped>\n",
              "    .dataframe tbody tr th:only-of-type {\n",
              "        vertical-align: middle;\n",
              "    }\n",
              "\n",
              "    .dataframe tbody tr th {\n",
              "        vertical-align: top;\n",
              "    }\n",
              "\n",
              "    .dataframe thead th {\n",
              "        text-align: right;\n",
              "    }\n",
              "</style>\n",
              "<table border=\"1\" class=\"dataframe\">\n",
              "  <thead>\n",
              "    <tr style=\"text-align: right;\">\n",
              "      <th></th>\n",
              "      <th>0</th>\n",
              "    </tr>\n",
              "  </thead>\n",
              "  <tbody>\n",
              "    <tr>\n",
              "      <th>USMER</th>\n",
              "      <td>2</td>\n",
              "    </tr>\n",
              "    <tr>\n",
              "      <th>MEDICAL_UNIT</th>\n",
              "      <td>13</td>\n",
              "    </tr>\n",
              "    <tr>\n",
              "      <th>SEX</th>\n",
              "      <td>2</td>\n",
              "    </tr>\n",
              "    <tr>\n",
              "      <th>PATIENT_TYPE</th>\n",
              "      <td>2</td>\n",
              "    </tr>\n",
              "    <tr>\n",
              "      <th>INTUBED</th>\n",
              "      <td>2</td>\n",
              "    </tr>\n",
              "    <tr>\n",
              "      <th>PNEUMONIA</th>\n",
              "      <td>2</td>\n",
              "    </tr>\n",
              "    <tr>\n",
              "      <th>AGE</th>\n",
              "      <td>121</td>\n",
              "    </tr>\n",
              "    <tr>\n",
              "      <th>PREGNANT</th>\n",
              "      <td>2</td>\n",
              "    </tr>\n",
              "    <tr>\n",
              "      <th>DIABETES</th>\n",
              "      <td>2</td>\n",
              "    </tr>\n",
              "    <tr>\n",
              "      <th>COPD</th>\n",
              "      <td>2</td>\n",
              "    </tr>\n",
              "    <tr>\n",
              "      <th>ASTHMA</th>\n",
              "      <td>2</td>\n",
              "    </tr>\n",
              "    <tr>\n",
              "      <th>INMSUPR</th>\n",
              "      <td>2</td>\n",
              "    </tr>\n",
              "    <tr>\n",
              "      <th>HIPERTENSION</th>\n",
              "      <td>2</td>\n",
              "    </tr>\n",
              "    <tr>\n",
              "      <th>OTHER_DISEASE</th>\n",
              "      <td>2</td>\n",
              "    </tr>\n",
              "    <tr>\n",
              "      <th>CARDIOVASCULAR</th>\n",
              "      <td>2</td>\n",
              "    </tr>\n",
              "    <tr>\n",
              "      <th>OBESITY</th>\n",
              "      <td>2</td>\n",
              "    </tr>\n",
              "    <tr>\n",
              "      <th>RENAL_CHRONIC</th>\n",
              "      <td>2</td>\n",
              "    </tr>\n",
              "    <tr>\n",
              "      <th>TOBACCO</th>\n",
              "      <td>2</td>\n",
              "    </tr>\n",
              "    <tr>\n",
              "      <th>CLASIFFICATION_FINAL</th>\n",
              "      <td>7</td>\n",
              "    </tr>\n",
              "    <tr>\n",
              "      <th>ICU</th>\n",
              "      <td>2</td>\n",
              "    </tr>\n",
              "    <tr>\n",
              "      <th>DIED</th>\n",
              "      <td>2</td>\n",
              "    </tr>\n",
              "  </tbody>\n",
              "</table>\n",
              "</div><br><label><b>dtype:</b> int64</label>"
            ]
          },
          "metadata": {},
          "execution_count": 15
        }
      ]
    },
    {
      "cell_type": "markdown",
      "source": [
        "As can be seen from the summary above, the data set consists of 20 features, with AGE being the only non-categorical features, and MEDICAL_UNIT and CLASIFFICATION_FINAL being the only non-binary categorical features."
      ],
      "metadata": {
        "id": "l09lIOtJLXo2"
      }
    },
    {
      "cell_type": "markdown",
      "source": [
        "Overview of the correlation between the numerical variables. Gives a good overview of what features provide information about the target variable, DIED."
      ],
      "metadata": {
        "id": "qWLvPaoMLXo2"
      }
    },
    {
      "cell_type": "code",
      "source": [
        "plt.figure(figsize=(14, 9))\n",
        "sns.heatmap(df.corr(numeric_only=True), annot=True, cmap=\"viridis\")\n",
        "plt.xticks(rotation=45)\n",
        "plt.tight_layout()\n",
        "plt.show()"
      ],
      "metadata": {
        "execution": {
          "iopub.status.busy": "2023-05-31T07:34:09.351152Z",
          "iopub.execute_input": "2023-05-31T07:34:09.351526Z",
          "iopub.status.idle": "2023-05-31T07:34:12.541522Z",
          "shell.execute_reply.started": "2023-05-31T07:34:09.351496Z",
          "shell.execute_reply": "2023-05-31T07:34:12.540216Z"
        },
        "trusted": true,
        "colab": {
          "base_uri": "https://localhost:8080/",
          "height": 906
        },
        "id": "deGDcphjLXo2",
        "outputId": "faed3b88-191e-48a9-af7c-c1f4c6a7fdd8"
      },
      "execution_count": 16,
      "outputs": [
        {
          "output_type": "display_data",
          "data": {
            "text/plain": [
              "<Figure size 1400x900 with 2 Axes>"
            ],
            "image/png": "[encoded data removed]"
          },
          "metadata": {}
        }
      ]
    },
    {
      "cell_type": "markdown",
      "source": [
        "Recall that for the categorical variables, 1=True and 2=False.\\\n",
        "From the correlations, we see the following relationships:\n",
        "- Patients that are sent home (PATIENT_TYPE = 1) have a significantly lower risk of dying (or vice versa!).\n",
        "- Patients that are INTUBED and patients that have PNEUMONIA have a significantly higher risk of dying.\n",
        "- Patients that are older have a higher risk of dying.\n",
        "- Patients with DIABETES, COPD, HIPERTENSION and RENAL_CHRONIC have a moderately higher risk of dying.\n",
        "\n",
        "Important note: These are correlations which do not mean causality. While it seems reasonable that pneumonia increases a patient's risk of dying (and not the other way around), it is likely not the intubation or hospitalization that increases the risk of the patient dying; rather, the doctor has likely (and correctly) estimated, that the patient is at high risk and has thus applied these measures where needed."
      ],
      "metadata": {
        "id": "jmBxi4RnLXo2"
      }
    },
    {
      "cell_type": "markdown",
      "source": [
        "## 2.2 Data Imputation\n",
        "Handling missing values"
      ],
      "metadata": {
        "id": "avAGthnyLXo2"
      }
    },
    {
      "cell_type": "markdown",
      "source": [
        "### INTUBED/ICU:\n",
        "These two variables have 192706 and 192543 non-NA values, respectively (out of a total of 1048575), but they are closely related as can be seen below."
      ],
      "metadata": {
        "id": "nKUB8uX7LXo2"
      }
    },
    {
      "cell_type": "code",
      "source": [
        "(df[\"INTUBED\"].notna() & df[\"ICU\"].isna()).sum() + (df[\"INTUBED\"].isna() & df[\"ICU\"].notna()).sum()"
      ],
      "metadata": {
        "execution": {
          "iopub.status.busy": "2023-05-31T07:34:12.543555Z",
          "iopub.execute_input": "2023-05-31T07:34:12.547904Z",
          "iopub.status.idle": "2023-05-31T07:34:12.566919Z",
          "shell.execute_reply.started": "2023-05-31T07:34:12.547848Z",
          "shell.execute_reply": "2023-05-31T07:34:12.566095Z"
        },
        "trusted": true,
        "colab": {
          "base_uri": "https://localhost:8080/"
        },
        "id": "OfCEJr7KLXo3",
        "outputId": "97b7f596-c92e-44ec-b7fa-8bff836b051d"
      },
      "execution_count": 17,
      "outputs": [
        {
          "output_type": "execute_result",
          "data": {
            "text/plain": [
              "167"
            ]
          },
          "metadata": {},
          "execution_count": 17
        }
      ]
    },
    {
      "cell_type": "markdown",
      "source": [
        "Only in 167 cases is one of the two features known without the other being known, so they appear to be tightly connected."
      ],
      "metadata": {
        "id": "ftEaZJ0qLXo3"
      }
    },
    {
      "cell_type": "markdown",
      "source": [
        "Considering the ability of the two variables to predict the likelihood that the patient dies:"
      ],
      "metadata": {
        "id": "fh1zReexLXo4"
      }
    },
    {
      "cell_type": "code",
      "source": [
        "df.groupby(by=[\"INTUBED\", \"ICU\"], dropna=False)[\"DIED\"].agg([\"mean\", \"count\"])"
      ],
      "metadata": {
        "execution": {
          "iopub.status.busy": "2023-05-31T07:34:12.568448Z",
          "iopub.execute_input": "2023-05-31T07:34:12.569124Z",
          "iopub.status.idle": "2023-05-31T07:34:12.656805Z",
          "shell.execute_reply.started": "2023-05-31T07:34:12.569087Z",
          "shell.execute_reply": "2023-05-31T07:34:12.65572Z"
        },
        "trusted": true,
        "colab": {
          "base_uri": "https://localhost:8080/",
          "height": 332
        },
        "id": "MWMIOQMlLXo4",
        "outputId": "2585b91b-73c7-4760-e077-9d892a537392"
      },
      "execution_count": 18,
      "outputs": [
        {
          "output_type": "execute_result",
          "data": {
            "text/plain": [
              "                 mean   count\n",
              "INTUBED ICU                  \n",
              "1.0     1.0  0.663873    9306\n",
              "        2.0  0.831207   24296\n",
              "        NaN  0.148148      54\n",
              "2.0     1.0  0.267082    7552\n",
              "        2.0  0.261449  151387\n",
              "        NaN  0.036036     111\n",
              "NaN     2.0  0.000000       2\n",
              "        NaN  0.010469  855867"
            ],
            "text/html": [
              "\n",
              "  <div id=\"df-cebed25e-5793-4a5a-b8d3-acba2ae47844\" class=\"colab-df-container\">\n",
              "    <div>\n",
              "<style scoped>\n",
              "    .dataframe tbody tr th:only-of-type {\n",
              "        vertical-align: middle;\n",
              "    }\n",
              "\n",
              "    .dataframe tbody tr th {\n",
              "        vertical-align: top;\n",
              "    }\n",
              "\n",
              "    .dataframe thead th {\n",
              "        text-align: right;\n",
              "    }\n",
              "</style>\n",
              "<table border=\"1\" class=\"dataframe\">\n",
              "  <thead>\n",
              "    <tr style=\"text-align: right;\">\n",
              "      <th></th>\n",
              "      <th></th>\n",
              "      <th>mean</th>\n",
              "      <th>count</th>\n",
              "    </tr>\n",
              "    <tr>\n",
              "      <th>INTUBED</th>\n",
              "      <th>ICU</th>\n",
              "      <th></th>\n",
              "      <th></th>\n",
              "    </tr>\n",
              "  </thead>\n",
              "  <tbody>\n",
              "    <tr>\n",
              "      <th rowspan=\"3\" valign=\"top\">1.0</th>\n",
              "      <th>1.0</th>\n",
              "      <td>0.663873</td>\n",
              "      <td>9306</td>\n",
              "    </tr>\n",
              "    <tr>\n",
              "      <th>2.0</th>\n",
              "      <td>0.831207</td>\n",
              "      <td>24296</td>\n",
              "    </tr>\n",
              "    <tr>\n",
              "      <th>NaN</th>\n",
              "      <td>0.148148</td>\n",
              "      <td>54</td>\n",
              "    </tr>\n",
              "    <tr>\n",
              "      <th rowspan=\"3\" valign=\"top\">2.0</th>\n",
              "      <th>1.0</th>\n",
              "      <td>0.267082</td>\n",
              "      <td>7552</td>\n",
              "    </tr>\n",
              "    <tr>\n",
              "      <th>2.0</th>\n",
              "      <td>0.261449</td>\n",
              "      <td>151387</td>\n",
              "    </tr>\n",
              "    <tr>\n",
              "      <th>NaN</th>\n",
              "      <td>0.036036</td>\n",
              "      <td>111</td>\n",
              "    </tr>\n",
              "    <tr>\n",
              "      <th rowspan=\"2\" valign=\"top\">NaN</th>\n",
              "      <th>2.0</th>\n",
              "      <td>0.000000</td>\n",
              "      <td>2</td>\n",
              "    </tr>\n",
              "    <tr>\n",
              "      <th>NaN</th>\n",
              "      <td>0.010469</td>\n",
              "      <td>855867</td>\n",
              "    </tr>\n",
              "  </tbody>\n",
              "</table>\n",
              "</div>\n",
              "    <div class=\"colab-df-buttons\">\n",
              "\n",
              "  <div class=\"colab-df-container\">\n",
              "    <button class=\"colab-df-convert\" onclick=\"convertToInteractive('df-cebed25e-5793-4a5a-b8d3-acba2ae47844')\"\n",
              "            title=\"Convert this dataframe to an interactive table.\"\n",
              "            style=\"display:none;\">\n",
              "\n",
              "  <svg xmlns=\"http://www.w3.org/2000/svg\" height=\"24px\" viewBox=\"0 -960 960 960\">\n",
              "    <path d=\"M120-120v-720h720v720H120Zm60-500h600v-160H180v160Zm220 220h160v-160H400v160Zm0 220h160v-160H400v160ZM180-400h160v-160H180v160Zm440 0h160v-160H620v160ZM180-180h160v-160H180v160Zm440 0h160v-160H620v160Z\"/>\n",
              "  </svg>\n",
              "    </button>\n",
              "\n",
              "  <style>\n",
              "    .colab-df-container {\n",
              "      display:flex;\n",
              "      gap: 12px;\n",
              "    }\n",
              "\n",
              "    .colab-df-convert {\n",
              "      background-color: #E8F0FE;\n",
              "      border: none;\n",
              "      border-radius: 50%;\n",
              "      cursor: pointer;\n",
              "      display: none;\n",
              "      fill: #1967D2;\n",
              "      height: 32px;\n",
              "      padding: 0 0 0 0;\n",
              "      width: 32px;\n",
              "    }\n",
              "\n",
              "    .colab-df-convert:hover {\n",
              "      background-color: #E2EBFA;\n",
              "      box-shadow: 0px 1px 2px rgba(60, 64, 67, 0.3), 0px 1px 3px 1px rgba(60, 64, 67, 0.15);\n",
              "      fill: #174EA6;\n",
              "    }\n",
              "\n",
              "    .colab-df-buttons div {\n",
              "      margin-bottom: 4px;\n",
              "    }\n",
              "\n",
              "    [theme=dark] .colab-df-convert {\n",
              "      background-color: #3B4455;\n",
              "      fill: #D2E3FC;\n",
              "    }\n",
              "\n",
              "    [theme=dark] .colab-df-convert:hover {\n",
              "      background-color: #434B5C;\n",
              "      box-shadow: 0px 1px 3px 1px rgba(0, 0, 0, 0.15);\n",
              "      filter: drop-shadow(0px 1px 2px rgba(0, 0, 0, 0.3));\n",
              "      fill: #FFFFFF;\n",
              "    }\n",
              "  </style>\n",
              "\n",
              "    <script>\n",
              "      const buttonEl =\n",
              "        document.querySelector('#df-cebed25e-5793-4a5a-b8d3-acba2ae47844 button.colab-df-convert');\n",
              "      buttonEl.style.display =\n",
              "        google.colab.kernel.accessAllowed ? 'block' : 'none';\n",
              "\n",
              "      async function convertToInteractive(key) {\n",
              "        const element = document.querySelector('#df-cebed25e-5793-4a5a-b8d3-acba2ae47844');\n",
              "        const dataTable =\n",
              "          await google.colab.kernel.invokeFunction('convertToInteractive',\n",
              "                                                    [key], {});\n",
              "        if (!dataTable) return;\n",
              "\n",
              "        const docLinkHtml = 'Like what you see? Visit the ' +\n",
              "          '<a target=\"_blank\" href=https://colab.research.google.com/notebooks/data_table.ipynb>data table notebook</a>'\n",
              "          + ' to learn more about interactive tables.';\n",
              "        element.innerHTML = '';\n",
              "        dataTable['output_type'] = 'display_data';\n",
              "        await google.colab.output.renderOutput(dataTable, element);\n",
              "        const docLink = document.createElement('div');\n",
              "        docLink.innerHTML = docLinkHtml;\n",
              "        element.appendChild(docLink);\n",
              "      }\n",
              "    </script>\n",
              "  </div>\n",
              "\n",
              "\n",
              "<div id=\"df-337e04db-cb63-476e-bdf7-501a59de1eda\">\n",
              "  <button class=\"colab-df-quickchart\" onclick=\"quickchart('df-337e04db-cb63-476e-bdf7-501a59de1eda')\"\n",
              "            title=\"Suggest charts\"\n",
              "            style=\"display:none;\">\n",
              "\n",
              "<svg xmlns=\"http://www.w3.org/2000/svg\" height=\"24px\"viewBox=\"0 0 24 24\"\n",
              "     width=\"24px\">\n",
              "    <g>\n",
              "        <path d=\"M19 3H5c-1.1 0-2 .9-2 2v14c0 1.1.9 2 2 2h14c1.1 0 2-.9 2-2V5c0-1.1-.9-2-2-2zM9 17H7v-7h2v7zm4 0h-2V7h2v10zm4 0h-2v-4h2v4z\"/>\n",
              "    </g>\n",
              "</svg>\n",
              "  </button>\n",
              "\n",
              "<style>\n",
              "  .colab-df-quickchart {\n",
              "      --bg-color: #E8F0FE;\n",
              "      --fill-color: #1967D2;\n",
              "      --hover-bg-color: #E2EBFA;\n",
              "      --hover-fill-color: #174EA6;\n",
              "      --disabled-fill-color: #AAA;\n",
              "      --disabled-bg-color: #DDD;\n",
              "  }\n",
              "\n",
              "  [theme=dark] .colab-df-quickchart {\n",
              "      --bg-color: #3B4455;\n",
              "      --fill-color: #D2E3FC;\n",
              "      --hover-bg-color: #434B5C;\n",
              "      --hover-fill-color: #FFFFFF;\n",
              "      --disabled-bg-color: #3B4455;\n",
              "      --disabled-fill-color: #666;\n",
              "  }\n",
              "\n",
              "  .colab-df-quickchart {\n",
              "    background-color: var(--bg-color);\n",
              "    border: none;\n",
              "    border-radius: 50%;\n",
              "    cursor: pointer;\n",
              "    display: none;\n",
              "    fill: var(--fill-color);\n",
              "    height: 32px;\n",
              "    padding: 0;\n",
              "    width: 32px;\n",
              "  }\n",
              "\n",
              "  .colab-df-quickchart:hover {\n",
              "    background-color: var(--hover-bg-color);\n",
              "    box-shadow: 0 1px 2px rgba(60, 64, 67, 0.3), 0 1px 3px 1px rgba(60, 64, 67, 0.15);\n",
              "    fill: var(--button-hover-fill-color);\n",
              "  }\n",
              "\n",
              "  .colab-df-quickchart-complete:disabled,\n",
              "  .colab-df-quickchart-complete:disabled:hover {\n",
              "    background-color: var(--disabled-bg-color);\n",
              "    fill: var(--disabled-fill-color);\n",
              "    box-shadow: none;\n",
              "  }\n",
              "\n",
              "  .colab-df-spinner {\n",
              "    border: 2px solid var(--fill-color);\n",
              "    border-color: transparent;\n",
              "    border-bottom-color: var(--fill-color);\n",
              "    animation:\n",
              "      spin 1s steps(1) infinite;\n",
              "  }\n",
              "\n",
              "  @keyframes spin {\n",
              "    0% {\n",
              "      border-color: transparent;\n",
              "      border-bottom-color: var(--fill-color);\n",
              "      border-left-color: var(--fill-color);\n",
              "    }\n",
              "    20% {\n",
              "      border-color: transparent;\n",
              "      border-left-color: var(--fill-color);\n",
              "      border-top-color: var(--fill-color);\n",
              "    }\n",
              "    30% {\n",
              "      border-color: transparent;\n",
              "      border-left-color: var(--fill-color);\n",
              "      border-top-color: var(--fill-color);\n",
              "      border-right-color: var(--fill-color);\n",
              "    }\n",
              "    40% {\n",
              "      border-color: transparent;\n",
              "      border-right-color: var(--fill-color);\n",
              "      border-top-color: var(--fill-color);\n",
              "    }\n",
              "    60% {\n",
              "      border-color: transparent;\n",
              "      border-right-color: var(--fill-color);\n",
              "    }\n",
              "    80% {\n",
              "      border-color: transparent;\n",
              "      border-right-color: var(--fill-color);\n",
              "      border-bottom-color: var(--fill-color);\n",
              "    }\n",
              "    90% {\n",
              "      border-color: transparent;\n",
              "      border-bottom-color: var(--fill-color);\n",
              "    }\n",
              "  }\n",
              "</style>\n",
              "\n",
              "  <script>\n",
              "    async function quickchart(key) {\n",
              "      const quickchartButtonEl =\n",
              "        document.querySelector('#' + key + ' button');\n",
              "      quickchartButtonEl.disabled = true;  // To prevent multiple clicks.\n",
              "      quickchartButtonEl.classList.add('colab-df-spinner');\n",
              "      try {\n",
              "        const charts = await google.colab.kernel.invokeFunction(\n",
              "            'suggestCharts', [key], {});\n",
              "      } catch (error) {\n",
              "        console.error('Error during call to suggestCharts:', error);\n",
              "      }\n",
              "      quickchartButtonEl.classList.remove('colab-df-spinner');\n",
              "      quickchartButtonEl.classList.add('colab-df-quickchart-complete');\n",
              "    }\n",
              "    (() => {\n",
              "      let quickchartButtonEl =\n",
              "        document.querySelector('#df-337e04db-cb63-476e-bdf7-501a59de1eda button');\n",
              "      quickchartButtonEl.style.display =\n",
              "        google.colab.kernel.accessAllowed ? 'block' : 'none';\n",
              "    })();\n",
              "  </script>\n",
              "</div>\n",
              "\n",
              "    </div>\n",
              "  </div>\n"
            ],
            "application/vnd.google.colaboratory.intrinsic+json": {
              "type": "dataframe",
              "summary": "{\n  \"name\": \"df\",\n  \"rows\": 8,\n  \"fields\": [\n    {\n      \"column\": \"mean\",\n      \"properties\": {\n        \"dtype\": \"number\",\n        \"std\": 0.311583401657183,\n        \"min\": 0.0,\n        \"max\": 0.8312067830095489,\n        \"num_unique_values\": 8,\n        \"samples\": [\n          0.8312067830095489,\n          0.036036036036036036,\n          0.663872770255749\n        ],\n        \"semantic_type\": \"\",\n        \"description\": \"\"\n      }\n    },\n    {\n      \"column\": \"count\",\n      \"properties\": {\n        \"dtype\": \"number\",\n        \"std\": 297302,\n        \"min\": 2,\n        \"max\": 855867,\n        \"num_unique_values\": 8,\n        \"samples\": [\n          24296,\n          111,\n          9306\n        ],\n        \"semantic_type\": \"\",\n        \"description\": \"\"\n      }\n    }\n  ]\n}"
            }
          },
          "metadata": {},
          "execution_count": 18
        }
      ]
    },
    {
      "cell_type": "markdown",
      "source": [
        "Interesting observation, a missing observation for both ICU and INTUBED seems to be a very good predictor of a significantly higher survival rate than e.g. both INTUBED and ICU being false.\\\n",
        "Looking at the correlation matrix for an explanation, there seems to be a special relationship between PATIENT_TYPE and INTUBED/ICU."
      ],
      "metadata": {
        "id": "M4Qap3ixLXo5"
      }
    },
    {
      "cell_type": "code",
      "source": [
        "df[[\"PATIENT_TYPE\", \"INTUBED\", \"ICU\"]].value_counts(dropna=False)"
      ],
      "metadata": {
        "execution": {
          "iopub.status.busy": "2023-05-31T07:34:12.658255Z",
          "iopub.execute_input": "2023-05-31T07:34:12.658611Z",
          "iopub.status.idle": "2023-05-31T07:34:12.85676Z",
          "shell.execute_reply.started": "2023-05-31T07:34:12.65858Z",
          "shell.execute_reply": "2023-05-31T07:34:12.855598Z"
        },
        "trusted": true,
        "colab": {
          "base_uri": "https://localhost:8080/",
          "height": 398
        },
        "id": "8grUuyxFLXo5",
        "outputId": "9a4e364a-a96c-4962-8d78-3acef0f15870"
      },
      "execution_count": 19,
      "outputs": [
        {
          "output_type": "execute_result",
          "data": {
            "text/plain": [
              "PATIENT_TYPE  INTUBED  ICU\n",
              "1             NaN      NaN    848544\n",
              "2             2.0      2.0    151387\n",
              "              1.0      2.0     24296\n",
              "                       1.0      9306\n",
              "              2.0      1.0      7552\n",
              "              NaN      NaN      7323\n",
              "              2.0      NaN       111\n",
              "              1.0      NaN        54\n",
              "              NaN      2.0         2\n",
              "Name: count, dtype: int64"
            ],
            "text/html": [
              "<div>\n",
              "<style scoped>\n",
              "    .dataframe tbody tr th:only-of-type {\n",
              "        vertical-align: middle;\n",
              "    }\n",
              "\n",
              "    .dataframe tbody tr th {\n",
              "        vertical-align: top;\n",
              "    }\n",
              "\n",
              "    .dataframe thead th {\n",
              "        text-align: right;\n",
              "    }\n",
              "</style>\n",
              "<table border=\"1\" class=\"dataframe\">\n",
              "  <thead>\n",
              "    <tr style=\"text-align: right;\">\n",
              "      <th></th>\n",
              "      <th></th>\n",
              "      <th></th>\n",
              "      <th>count</th>\n",
              "    </tr>\n",
              "    <tr>\n",
              "      <th>PATIENT_TYPE</th>\n",
              "      <th>INTUBED</th>\n",
              "      <th>ICU</th>\n",
              "      <th></th>\n",
              "    </tr>\n",
              "  </thead>\n",
              "  <tbody>\n",
              "    <tr>\n",
              "      <th>1</th>\n",
              "      <th>NaN</th>\n",
              "      <th>NaN</th>\n",
              "      <td>848544</td>\n",
              "    </tr>\n",
              "    <tr>\n",
              "      <th rowspan=\"8\" valign=\"top\">2</th>\n",
              "      <th>2.0</th>\n",
              "      <th>2.0</th>\n",
              "      <td>151387</td>\n",
              "    </tr>\n",
              "    <tr>\n",
              "      <th rowspan=\"2\" valign=\"top\">1.0</th>\n",
              "      <th>2.0</th>\n",
              "      <td>24296</td>\n",
              "    </tr>\n",
              "    <tr>\n",
              "      <th>1.0</th>\n",
              "      <td>9306</td>\n",
              "    </tr>\n",
              "    <tr>\n",
              "      <th>2.0</th>\n",
              "      <th>1.0</th>\n",
              "      <td>7552</td>\n",
              "    </tr>\n",
              "    <tr>\n",
              "      <th>NaN</th>\n",
              "      <th>NaN</th>\n",
              "      <td>7323</td>\n",
              "    </tr>\n",
              "    <tr>\n",
              "      <th>2.0</th>\n",
              "      <th>NaN</th>\n",
              "      <td>111</td>\n",
              "    </tr>\n",
              "    <tr>\n",
              "      <th>1.0</th>\n",
              "      <th>NaN</th>\n",
              "      <td>54</td>\n",
              "    </tr>\n",
              "    <tr>\n",
              "      <th>NaN</th>\n",
              "      <th>2.0</th>\n",
              "      <td>2</td>\n",
              "    </tr>\n",
              "  </tbody>\n",
              "</table>\n",
              "</div><br><label><b>dtype:</b> int64</label>"
            ]
          },
          "metadata": {},
          "execution_count": 19
        }
      ]
    },
    {
      "cell_type": "markdown",
      "source": [
        "It seems to be a prerequisite that the patient is hospitalized, i.e. of PATIENT_TYPE 2, before the features INTUBED and ICU are assigned a value. However, even without the biggest domain knowledge, we can quite safely say, that patients who are sent home, i.e. PATIENT_TYPE 1, are indeed not INTUBED (usually requires hospitalization) or amitted to the ICU (which is a part of the hospital and would imply hospitalization). Thus, we can assign the value 2 (False) for these two features for patients of type 1."
      ],
      "metadata": {
        "id": "c89P-rCoLXo5"
      }
    },
    {
      "cell_type": "code",
      "source": [
        "df.loc[df[\"PATIENT_TYPE\"]==1, [\"INTUBED\", \"ICU\"]] = 2"
      ],
      "metadata": {
        "execution": {
          "iopub.status.busy": "2023-05-31T07:34:12.85823Z",
          "iopub.execute_input": "2023-05-31T07:34:12.85901Z",
          "iopub.status.idle": "2023-05-31T07:34:12.879948Z",
          "shell.execute_reply.started": "2023-05-31T07:34:12.858972Z",
          "shell.execute_reply": "2023-05-31T07:34:12.878727Z"
        },
        "trusted": true,
        "id": "UffPPOJQLXo6"
      },
      "execution_count": 20,
      "outputs": []
    },
    {
      "cell_type": "markdown",
      "source": [
        "We can also see that when INTUBED=2 (False), ICU is most likely also 2, so we use that value for imputation."
      ],
      "metadata": {
        "id": "wPxIoxm9LXo6"
      }
    },
    {
      "cell_type": "code",
      "source": [
        "df.loc[(df[\"INTUBED\"]==2) & (df[\"ICU\"].isna()), \"ICU\"] = 2"
      ],
      "metadata": {
        "execution": {
          "iopub.status.busy": "2023-05-31T07:34:12.881205Z",
          "iopub.execute_input": "2023-05-31T07:34:12.881559Z",
          "iopub.status.idle": "2023-05-31T07:34:12.895045Z",
          "shell.execute_reply.started": "2023-05-31T07:34:12.881522Z",
          "shell.execute_reply": "2023-05-31T07:34:12.89393Z"
        },
        "trusted": true,
        "id": "Wrd8ZhCmLXo6"
      },
      "execution_count": 21,
      "outputs": []
    },
    {
      "cell_type": "markdown",
      "source": [
        "The remaining combinations are not quite one-sided enough to be grouped and imputated."
      ],
      "metadata": {
        "id": "Bn0bt23KLXo6"
      }
    },
    {
      "cell_type": "markdown",
      "source": [
        "### PNEUMONIA:\n",
        "This feature has a significant amount of missing values."
      ],
      "metadata": {
        "id": "5PN81cD-LXo6"
      }
    },
    {
      "cell_type": "markdown",
      "source": [
        "As was seen from the correlation analysis, this factor seems to corrrelate strongly with PATIENT_TYPE."
      ],
      "metadata": {
        "id": "ssXcrciDLXo6"
      }
    },
    {
      "cell_type": "code",
      "source": [
        "df.groupby([\"PATIENT_TYPE\"])[\"PNEUMONIA\"].value_counts(normalize=True)"
      ],
      "metadata": {
        "execution": {
          "iopub.status.busy": "2023-05-31T07:34:12.896668Z",
          "iopub.execute_input": "2023-05-31T07:34:12.89717Z",
          "iopub.status.idle": "2023-05-31T07:34:12.998213Z",
          "shell.execute_reply.started": "2023-05-31T07:34:12.897136Z",
          "shell.execute_reply": "2023-05-31T07:34:12.997122Z"
        },
        "trusted": true,
        "colab": {
          "base_uri": "https://localhost:8080/",
          "height": 241
        },
        "id": "HmlFbY01LXo7",
        "outputId": "030c4f45-ca70-471f-f704-62ac3c31cdc4"
      },
      "execution_count": 22,
      "outputs": [
        {
          "output_type": "execute_result",
          "data": {
            "text/plain": [
              "PATIENT_TYPE  PNEUMONIA\n",
              "1             2.0          0.972311\n",
              "              1.0          0.027689\n",
              "2             1.0          0.599542\n",
              "              2.0          0.400458\n",
              "Name: proportion, dtype: float64"
            ],
            "text/html": [
              "<div>\n",
              "<style scoped>\n",
              "    .dataframe tbody tr th:only-of-type {\n",
              "        vertical-align: middle;\n",
              "    }\n",
              "\n",
              "    .dataframe tbody tr th {\n",
              "        vertical-align: top;\n",
              "    }\n",
              "\n",
              "    .dataframe thead th {\n",
              "        text-align: right;\n",
              "    }\n",
              "</style>\n",
              "<table border=\"1\" class=\"dataframe\">\n",
              "  <thead>\n",
              "    <tr style=\"text-align: right;\">\n",
              "      <th></th>\n",
              "      <th></th>\n",
              "      <th>proportion</th>\n",
              "    </tr>\n",
              "    <tr>\n",
              "      <th>PATIENT_TYPE</th>\n",
              "      <th>PNEUMONIA</th>\n",
              "      <th></th>\n",
              "    </tr>\n",
              "  </thead>\n",
              "  <tbody>\n",
              "    <tr>\n",
              "      <th rowspan=\"2\" valign=\"top\">1</th>\n",
              "      <th>2.0</th>\n",
              "      <td>0.972311</td>\n",
              "    </tr>\n",
              "    <tr>\n",
              "      <th>1.0</th>\n",
              "      <td>0.027689</td>\n",
              "    </tr>\n",
              "    <tr>\n",
              "      <th rowspan=\"2\" valign=\"top\">2</th>\n",
              "      <th>1.0</th>\n",
              "      <td>0.599542</td>\n",
              "    </tr>\n",
              "    <tr>\n",
              "      <th>2.0</th>\n",
              "      <td>0.400458</td>\n",
              "    </tr>\n",
              "  </tbody>\n",
              "</table>\n",
              "</div><br><label><b>dtype:</b> float64</label>"
            ]
          },
          "metadata": {},
          "execution_count": 22
        }
      ]
    },
    {
      "cell_type": "markdown",
      "source": [
        "It seems that having PNEUMONIA is very likely to get one hospitalized, i.e. it is very unusual for patients to be sent home if they suffer from PNEUMONIA, so we can impute the missing values for those patients that get sent home by,"
      ],
      "metadata": {
        "id": "FMs0eJ0PLXo7"
      }
    },
    {
      "cell_type": "code",
      "source": [
        "df.loc[df[\"PATIENT_TYPE\"]==1, \"PNEUMONIA\"] = df.loc[df[\"PATIENT_TYPE\"]==1, \"PNEUMONIA\"].fillna(2)"
      ],
      "metadata": {
        "execution": {
          "iopub.status.busy": "2023-05-31T07:34:13.000136Z",
          "iopub.execute_input": "2023-05-31T07:34:13.000933Z",
          "iopub.status.idle": "2023-05-31T07:34:13.038925Z",
          "shell.execute_reply.started": "2023-05-31T07:34:13.000886Z",
          "shell.execute_reply": "2023-05-31T07:34:13.037796Z"
        },
        "trusted": true,
        "id": "t9kN9SR_LXo7"
      },
      "execution_count": 23,
      "outputs": []
    },
    {
      "cell_type": "markdown",
      "source": [
        "Patients of type 2 are too ambivalent and the missing values are not filled."
      ],
      "metadata": {
        "id": "3IaN8jquLXo7"
      }
    },
    {
      "cell_type": "markdown",
      "source": [
        "### PREGNANT:\n",
        "This feature has a high proportion of missing values."
      ],
      "metadata": {
        "id": "8-_DNDXZLXo7"
      }
    },
    {
      "cell_type": "code",
      "source": [
        "df.groupby(\"SEX\")[\"PREGNANT\"].value_counts(dropna=False)"
      ],
      "metadata": {
        "execution": {
          "iopub.status.busy": "2023-05-31T07:34:13.041341Z",
          "iopub.execute_input": "2023-05-31T07:34:13.042815Z",
          "iopub.status.idle": "2023-05-31T07:34:13.148552Z",
          "shell.execute_reply.started": "2023-05-31T07:34:13.042767Z",
          "shell.execute_reply": "2023-05-31T07:34:13.14729Z"
        },
        "trusted": true,
        "colab": {
          "base_uri": "https://localhost:8080/",
          "height": 241
        },
        "id": "jj6gq-6MLXo7",
        "outputId": "3d247ecc-5e44-4193-e618-fc3647ee22e4"
      },
      "execution_count": 24,
      "outputs": [
        {
          "output_type": "execute_result",
          "data": {
            "text/plain": [
              "SEX  PREGNANT\n",
              "1    2.0         513179\n",
              "     1.0           8131\n",
              "     NaN           3754\n",
              "2    NaN         523511\n",
              "Name: count, dtype: int64"
            ],
            "text/html": [
              "<div>\n",
              "<style scoped>\n",
              "    .dataframe tbody tr th:only-of-type {\n",
              "        vertical-align: middle;\n",
              "    }\n",
              "\n",
              "    .dataframe tbody tr th {\n",
              "        vertical-align: top;\n",
              "    }\n",
              "\n",
              "    .dataframe thead th {\n",
              "        text-align: right;\n",
              "    }\n",
              "</style>\n",
              "<table border=\"1\" class=\"dataframe\">\n",
              "  <thead>\n",
              "    <tr style=\"text-align: right;\">\n",
              "      <th></th>\n",
              "      <th></th>\n",
              "      <th>count</th>\n",
              "    </tr>\n",
              "    <tr>\n",
              "      <th>SEX</th>\n",
              "      <th>PREGNANT</th>\n",
              "      <th></th>\n",
              "    </tr>\n",
              "  </thead>\n",
              "  <tbody>\n",
              "    <tr>\n",
              "      <th rowspan=\"3\" valign=\"top\">1</th>\n",
              "      <th>2.0</th>\n",
              "      <td>513179</td>\n",
              "    </tr>\n",
              "    <tr>\n",
              "      <th>1.0</th>\n",
              "      <td>8131</td>\n",
              "    </tr>\n",
              "    <tr>\n",
              "      <th>NaN</th>\n",
              "      <td>3754</td>\n",
              "    </tr>\n",
              "    <tr>\n",
              "      <th>2</th>\n",
              "      <th>NaN</th>\n",
              "      <td>523511</td>\n",
              "    </tr>\n",
              "  </tbody>\n",
              "</table>\n",
              "</div><br><label><b>dtype:</b> int64</label>"
            ]
          },
          "metadata": {},
          "execution_count": 24
        }
      ]
    },
    {
      "cell_type": "markdown",
      "source": [
        "As can be seen, all the pregnant statuses for males are missing likely due to it being deemed unnecessary to check. We can fill them with the value 2 for False."
      ],
      "metadata": {
        "id": "XAwWpAQSLXo7"
      }
    },
    {
      "cell_type": "code",
      "source": [
        "df.loc[df[\"SEX\"]==2, \"PREGNANT\"] = 2"
      ],
      "metadata": {
        "execution": {
          "iopub.status.busy": "2023-05-31T07:34:13.150053Z",
          "iopub.execute_input": "2023-05-31T07:34:13.1505Z",
          "iopub.status.idle": "2023-05-31T07:34:13.167814Z",
          "shell.execute_reply.started": "2023-05-31T07:34:13.15046Z",
          "shell.execute_reply": "2023-05-31T07:34:13.166742Z"
        },
        "trusted": true,
        "id": "aOV2htIILXo7"
      },
      "execution_count": 25,
      "outputs": []
    },
    {
      "cell_type": "markdown",
      "source": [
        "Also, given that pregnancy is very unlikely above the age of 42, those missing values are filled to False."
      ],
      "metadata": {
        "id": "Rg_qluTsLXo8"
      }
    },
    {
      "cell_type": "code",
      "source": [
        "df.loc[(df[\"AGE\"]>=42) & (df[\"SEX\"] == 1), \"PREGNANT\"].value_counts()"
      ],
      "metadata": {
        "execution": {
          "iopub.status.busy": "2023-05-31T07:34:13.169686Z",
          "iopub.execute_input": "2023-05-31T07:34:13.170023Z",
          "iopub.status.idle": "2023-05-31T07:34:13.193476Z",
          "shell.execute_reply.started": "2023-05-31T07:34:13.169996Z",
          "shell.execute_reply": "2023-05-31T07:34:13.192567Z"
        },
        "trusted": true,
        "colab": {
          "base_uri": "https://localhost:8080/",
          "height": 178
        },
        "id": "1kaHbSg3LXo8",
        "outputId": "cd2d281b-0802-4ade-b43d-f1e7db042c74"
      },
      "execution_count": 26,
      "outputs": [
        {
          "output_type": "execute_result",
          "data": {
            "text/plain": [
              "PREGNANT\n",
              "2.0    241376\n",
              "1.0       184\n",
              "Name: count, dtype: int64"
            ],
            "text/html": [
              "<div>\n",
              "<style scoped>\n",
              "    .dataframe tbody tr th:only-of-type {\n",
              "        vertical-align: middle;\n",
              "    }\n",
              "\n",
              "    .dataframe tbody tr th {\n",
              "        vertical-align: top;\n",
              "    }\n",
              "\n",
              "    .dataframe thead th {\n",
              "        text-align: right;\n",
              "    }\n",
              "</style>\n",
              "<table border=\"1\" class=\"dataframe\">\n",
              "  <thead>\n",
              "    <tr style=\"text-align: right;\">\n",
              "      <th></th>\n",
              "      <th>count</th>\n",
              "    </tr>\n",
              "    <tr>\n",
              "      <th>PREGNANT</th>\n",
              "      <th></th>\n",
              "    </tr>\n",
              "  </thead>\n",
              "  <tbody>\n",
              "    <tr>\n",
              "      <th>2.0</th>\n",
              "      <td>241376</td>\n",
              "    </tr>\n",
              "    <tr>\n",
              "      <th>1.0</th>\n",
              "      <td>184</td>\n",
              "    </tr>\n",
              "  </tbody>\n",
              "</table>\n",
              "</div><br><label><b>dtype:</b> int64</label>"
            ]
          },
          "metadata": {},
          "execution_count": 26
        }
      ]
    },
    {
      "cell_type": "code",
      "source": [
        "df.loc[(df[\"PREGNANT\"].isna()) & (df[\"AGE\"]>=42), \"PREGNANT\"] = 2"
      ],
      "metadata": {
        "execution": {
          "iopub.status.busy": "2023-05-31T07:34:13.194889Z",
          "iopub.execute_input": "2023-05-31T07:34:13.195527Z",
          "iopub.status.idle": "2023-05-31T07:34:13.206034Z",
          "shell.execute_reply.started": "2023-05-31T07:34:13.195492Z",
          "shell.execute_reply": "2023-05-31T07:34:13.204931Z"
        },
        "trusted": true,
        "id": "J19LdDJjLXo8"
      },
      "execution_count": 27,
      "outputs": []
    },
    {
      "cell_type": "markdown",
      "source": [
        "### DIABETES:"
      ],
      "metadata": {
        "id": "Q0nyA911LXo8"
      }
    },
    {
      "cell_type": "markdown",
      "source": [
        "Diabetes is mostly something people develop later in life and is not very prevalent among those under 30 years of age."
      ],
      "metadata": {
        "id": "TcTCeXkRLXo8"
      }
    },
    {
      "cell_type": "code",
      "source": [
        "df.loc[df[\"AGE\"]<30, \"DIABETES\"].value_counts(normalize=True)"
      ],
      "metadata": {
        "execution": {
          "iopub.status.busy": "2023-05-31T07:34:13.20769Z",
          "iopub.execute_input": "2023-05-31T07:34:13.208125Z",
          "iopub.status.idle": "2023-05-31T07:34:13.236596Z",
          "shell.execute_reply.started": "2023-05-31T07:34:13.208083Z",
          "shell.execute_reply": "2023-05-31T07:34:13.23496Z"
        },
        "trusted": true,
        "colab": {
          "base_uri": "https://localhost:8080/",
          "height": 178
        },
        "id": "VG6VMlxVLXo8",
        "outputId": "8a66c451-261d-4dee-f6e8-cb84a4e27fa7"
      },
      "execution_count": 28,
      "outputs": [
        {
          "output_type": "execute_result",
          "data": {
            "text/plain": [
              "DIABETES\n",
              "2.0    0.988349\n",
              "1.0    0.011651\n",
              "Name: proportion, dtype: float64"
            ],
            "text/html": [
              "<div>\n",
              "<style scoped>\n",
              "    .dataframe tbody tr th:only-of-type {\n",
              "        vertical-align: middle;\n",
              "    }\n",
              "\n",
              "    .dataframe tbody tr th {\n",
              "        vertical-align: top;\n",
              "    }\n",
              "\n",
              "    .dataframe thead th {\n",
              "        text-align: right;\n",
              "    }\n",
              "</style>\n",
              "<table border=\"1\" class=\"dataframe\">\n",
              "  <thead>\n",
              "    <tr style=\"text-align: right;\">\n",
              "      <th></th>\n",
              "      <th>proportion</th>\n",
              "    </tr>\n",
              "    <tr>\n",
              "      <th>DIABETES</th>\n",
              "      <th></th>\n",
              "    </tr>\n",
              "  </thead>\n",
              "  <tbody>\n",
              "    <tr>\n",
              "      <th>2.0</th>\n",
              "      <td>0.988349</td>\n",
              "    </tr>\n",
              "    <tr>\n",
              "      <th>1.0</th>\n",
              "      <td>0.011651</td>\n",
              "    </tr>\n",
              "  </tbody>\n",
              "</table>\n",
              "</div><br><label><b>dtype:</b> float64</label>"
            ]
          },
          "metadata": {},
          "execution_count": 28
        }
      ]
    },
    {
      "cell_type": "code",
      "source": [
        "df.loc[df[\"AGE\"]<30, \"DIABETES\"] = df.loc[df[\"AGE\"]<30, \"DIABETES\"].fillna(2)"
      ],
      "metadata": {
        "execution": {
          "iopub.status.busy": "2023-05-31T07:34:13.238013Z",
          "iopub.execute_input": "2023-05-31T07:34:13.238926Z",
          "iopub.status.idle": "2023-05-31T07:34:13.270578Z",
          "shell.execute_reply.started": "2023-05-31T07:34:13.238892Z",
          "shell.execute_reply": "2023-05-31T07:34:13.269604Z"
        },
        "trusted": true,
        "id": "S028lblSLXo9"
      },
      "execution_count": 29,
      "outputs": []
    },
    {
      "cell_type": "markdown",
      "source": [
        "Also, among those from 30 - 40 years, an absence of hypertension is related to an absence of diabetes."
      ],
      "metadata": {
        "id": "cH24Jh5JLXo9"
      }
    },
    {
      "cell_type": "code",
      "source": [
        "df.loc[df[\"AGE\"].between(30, 40)].groupby(\"HIPERTENSION\")[\"DIABETES\"].value_counts(normalize=True)"
      ],
      "metadata": {
        "execution": {
          "iopub.status.busy": "2023-05-31T07:34:13.271741Z",
          "iopub.execute_input": "2023-05-31T07:34:13.27258Z",
          "iopub.status.idle": "2023-05-31T07:34:13.33848Z",
          "shell.execute_reply.started": "2023-05-31T07:34:13.272545Z",
          "shell.execute_reply": "2023-05-31T07:34:13.337197Z"
        },
        "trusted": true,
        "colab": {
          "base_uri": "https://localhost:8080/",
          "height": 241
        },
        "id": "kuo9qOkyLXo9",
        "outputId": "e30e08ed-e541-462c-e518-ae03164d7663"
      },
      "execution_count": 30,
      "outputs": [
        {
          "output_type": "execute_result",
          "data": {
            "text/plain": [
              "HIPERTENSION  DIABETES\n",
              "1.0           2.0         0.802623\n",
              "              1.0         0.197377\n",
              "2.0           2.0         0.970082\n",
              "              1.0         0.029918\n",
              "Name: proportion, dtype: float64"
            ],
            "text/html": [
              "<div>\n",
              "<style scoped>\n",
              "    .dataframe tbody tr th:only-of-type {\n",
              "        vertical-align: middle;\n",
              "    }\n",
              "\n",
              "    .dataframe tbody tr th {\n",
              "        vertical-align: top;\n",
              "    }\n",
              "\n",
              "    .dataframe thead th {\n",
              "        text-align: right;\n",
              "    }\n",
              "</style>\n",
              "<table border=\"1\" class=\"dataframe\">\n",
              "  <thead>\n",
              "    <tr style=\"text-align: right;\">\n",
              "      <th></th>\n",
              "      <th></th>\n",
              "      <th>proportion</th>\n",
              "    </tr>\n",
              "    <tr>\n",
              "      <th>HIPERTENSION</th>\n",
              "      <th>DIABETES</th>\n",
              "      <th></th>\n",
              "    </tr>\n",
              "  </thead>\n",
              "  <tbody>\n",
              "    <tr>\n",
              "      <th rowspan=\"2\" valign=\"top\">1.0</th>\n",
              "      <th>2.0</th>\n",
              "      <td>0.802623</td>\n",
              "    </tr>\n",
              "    <tr>\n",
              "      <th>1.0</th>\n",
              "      <td>0.197377</td>\n",
              "    </tr>\n",
              "    <tr>\n",
              "      <th rowspan=\"2\" valign=\"top\">2.0</th>\n",
              "      <th>2.0</th>\n",
              "      <td>0.970082</td>\n",
              "    </tr>\n",
              "    <tr>\n",
              "      <th>1.0</th>\n",
              "      <td>0.029918</td>\n",
              "    </tr>\n",
              "  </tbody>\n",
              "</table>\n",
              "</div><br><label><b>dtype:</b> float64</label>"
            ]
          },
          "metadata": {},
          "execution_count": 30
        }
      ]
    },
    {
      "cell_type": "code",
      "source": [
        "df.loc[(df[\"AGE\"].between(30, 40)) & (df[\"HIPERTENSION\"]==2), \"DIABETES\"].fillna(2, inplace=True)"
      ],
      "metadata": {
        "execution": {
          "iopub.status.busy": "2023-05-31T07:34:13.339682Z",
          "iopub.execute_input": "2023-05-31T07:34:13.340009Z",
          "iopub.status.idle": "2023-05-31T07:34:13.360178Z",
          "shell.execute_reply.started": "2023-05-31T07:34:13.339982Z",
          "shell.execute_reply": "2023-05-31T07:34:13.358987Z"
        },
        "trusted": true,
        "id": "_caOYPnALXo9"
      },
      "execution_count": 31,
      "outputs": []
    },
    {
      "cell_type": "markdown",
      "source": [
        "### HIPERTENSION"
      ],
      "metadata": {
        "id": "zoIMegmDLXo9"
      }
    },
    {
      "cell_type": "markdown",
      "source": [
        "Below the age of 30, hypertension is quite unusual."
      ],
      "metadata": {
        "id": "i9MJA89cLXo-"
      }
    },
    {
      "cell_type": "code",
      "source": [
        "df.loc[df[\"AGE\"]<30, \"HIPERTENSION\"].value_counts(normalize=True)"
      ],
      "metadata": {
        "execution": {
          "iopub.status.busy": "2023-05-31T07:34:13.36169Z",
          "iopub.execute_input": "2023-05-31T07:34:13.362205Z",
          "iopub.status.idle": "2023-05-31T07:34:13.387551Z",
          "shell.execute_reply.started": "2023-05-31T07:34:13.362164Z",
          "shell.execute_reply": "2023-05-31T07:34:13.386237Z"
        },
        "trusted": true,
        "colab": {
          "base_uri": "https://localhost:8080/",
          "height": 178
        },
        "id": "p43NlufbLXo-",
        "outputId": "2bbd3e72-8970-44bd-d74d-675a5d7bce2b"
      },
      "execution_count": 32,
      "outputs": [
        {
          "output_type": "execute_result",
          "data": {
            "text/plain": [
              "HIPERTENSION\n",
              "2.0    0.981784\n",
              "1.0    0.018216\n",
              "Name: proportion, dtype: float64"
            ],
            "text/html": [
              "<div>\n",
              "<style scoped>\n",
              "    .dataframe tbody tr th:only-of-type {\n",
              "        vertical-align: middle;\n",
              "    }\n",
              "\n",
              "    .dataframe tbody tr th {\n",
              "        vertical-align: top;\n",
              "    }\n",
              "\n",
              "    .dataframe thead th {\n",
              "        text-align: right;\n",
              "    }\n",
              "</style>\n",
              "<table border=\"1\" class=\"dataframe\">\n",
              "  <thead>\n",
              "    <tr style=\"text-align: right;\">\n",
              "      <th></th>\n",
              "      <th>proportion</th>\n",
              "    </tr>\n",
              "    <tr>\n",
              "      <th>HIPERTENSION</th>\n",
              "      <th></th>\n",
              "    </tr>\n",
              "  </thead>\n",
              "  <tbody>\n",
              "    <tr>\n",
              "      <th>2.0</th>\n",
              "      <td>0.981784</td>\n",
              "    </tr>\n",
              "    <tr>\n",
              "      <th>1.0</th>\n",
              "      <td>0.018216</td>\n",
              "    </tr>\n",
              "  </tbody>\n",
              "</table>\n",
              "</div><br><label><b>dtype:</b> float64</label>"
            ]
          },
          "metadata": {},
          "execution_count": 32
        }
      ]
    },
    {
      "cell_type": "code",
      "source": [
        "df.loc[df[\"AGE\"]<30, \"HIPERTENSION\"] = df.loc[df[\"AGE\"]<30, \"HIPERTENSION\"].fillna(2)"
      ],
      "metadata": {
        "execution": {
          "iopub.status.busy": "2023-05-31T07:34:13.391137Z",
          "iopub.execute_input": "2023-05-31T07:34:13.39193Z",
          "iopub.status.idle": "2023-05-31T07:34:13.426281Z",
          "shell.execute_reply.started": "2023-05-31T07:34:13.39189Z",
          "shell.execute_reply": "2023-05-31T07:34:13.424684Z"
        },
        "trusted": true,
        "id": "UuPTHXuSLXo-"
      },
      "execution_count": 33,
      "outputs": []
    },
    {
      "cell_type": "markdown",
      "source": [
        "### Remaining missing values"
      ],
      "metadata": {
        "id": "h3re_xN-LXo-"
      }
    },
    {
      "cell_type": "code",
      "source": [
        "df.isna().any(axis=1).mean()"
      ],
      "metadata": {
        "execution": {
          "iopub.status.busy": "2023-05-31T07:34:13.427732Z",
          "iopub.execute_input": "2023-05-31T07:34:13.428117Z",
          "iopub.status.idle": "2023-05-31T07:34:13.465769Z",
          "shell.execute_reply.started": "2023-05-31T07:34:13.428084Z",
          "shell.execute_reply": "2023-05-31T07:34:13.464458Z"
        },
        "trusted": true,
        "colab": {
          "base_uri": "https://localhost:8080/"
        },
        "id": "ND-_o0oDLXo-",
        "outputId": "2f99ad5a-b9f2-45fa-f46c-06d774e535cb"
      },
      "execution_count": 34,
      "outputs": [
        {
          "output_type": "execute_result",
          "data": {
            "text/plain": [
              "0.0159359130248194"
            ]
          },
          "metadata": {},
          "execution_count": 34
        }
      ]
    },
    {
      "cell_type": "markdown",
      "source": [
        "After the imputation of missing values done above, around 1.6% of the observations have a missing value in at least one of the columns. This proportion of data availability is considered satisfactory, and these remaining rows are dropped."
      ],
      "metadata": {
        "id": "PUcKSgomLXo-"
      }
    },
    {
      "cell_type": "code",
      "source": [
        "df = df.dropna()"
      ],
      "metadata": {
        "execution": {
          "iopub.status.busy": "2023-05-31T07:34:13.467147Z",
          "iopub.execute_input": "2023-05-31T07:34:13.467489Z",
          "iopub.status.idle": "2023-05-31T07:34:13.57737Z",
          "shell.execute_reply.started": "2023-05-31T07:34:13.46746Z",
          "shell.execute_reply": "2023-05-31T07:34:13.576306Z"
        },
        "trusted": true,
        "id": "oJJ_FocSLXo_"
      },
      "execution_count": 35,
      "outputs": []
    },
    {
      "cell_type": "markdown",
      "source": [
        "## 2.3 Categorical Variables\n",
        "Transforming into dummy variables"
      ],
      "metadata": {
        "id": "tcduzO0-LXo_"
      }
    },
    {
      "cell_type": "code",
      "source": [
        "df = pd.get_dummies(df, columns=df.columns.drop([\"AGE\", \"DIED\"]), drop_first=True)"
      ],
      "metadata": {
        "execution": {
          "iopub.status.busy": "2023-05-31T07:34:13.578683Z",
          "iopub.execute_input": "2023-05-31T07:34:13.578996Z",
          "iopub.status.idle": "2023-05-31T07:34:14.330166Z",
          "shell.execute_reply.started": "2023-05-31T07:34:13.578969Z",
          "shell.execute_reply": "2023-05-31T07:34:14.328919Z"
        },
        "trusted": true,
        "id": "NtZWFWJ6LXo_"
      },
      "execution_count": 36,
      "outputs": []
    },
    {
      "cell_type": "markdown",
      "source": [
        "# 3. Splitting Data\n",
        "Creating training and test data sets"
      ],
      "metadata": {
        "id": "IyWaUd7zLXo_"
      }
    },
    {
      "cell_type": "code",
      "source": [
        "X_train, X_test, y_train, y_test = train_test_split(df.drop(\"DIED\", axis=1), df[\"DIED\"], test_size=0.3, random_state=42)"
      ],
      "metadata": {
        "execution": {
          "iopub.status.busy": "2023-05-31T07:34:14.331781Z",
          "iopub.execute_input": "2023-05-31T07:34:14.332132Z",
          "iopub.status.idle": "2023-05-31T07:34:14.99186Z",
          "shell.execute_reply.started": "2023-05-31T07:34:14.332104Z",
          "shell.execute_reply": "2023-05-31T07:34:14.990749Z"
        },
        "trusted": true,
        "id": "Q81LsEMoLXpA"
      },
      "execution_count": 37,
      "outputs": []
    },
    {
      "cell_type": "markdown",
      "source": [
        "# 4. Training Models\n",
        "Selected models for the prediction task."
      ],
      "metadata": {
        "id": "6uJanL5tLXpA"
      }
    },
    {
      "cell_type": "markdown",
      "source": [
        "Selecting the correct model and finding the most optimal hyperparameters are often a big part of the machine learning calibration process. However, the data in this project is very 'simple' in the sense that all features but one are categorical, and most of these categorical features are binary. Thus, a simple linear model might perform as well (or better) than the more complex model, that usually excel when the relationship between the features and the target variable is more complex.\\\n",
        "Different specifications were tested for the two models with very moderate variation wrt. performance."
      ],
      "metadata": {
        "id": "YeCxLA8wLXpA"
      }
    },
    {
      "cell_type": "markdown",
      "source": [
        "## 4.1 Random Forest Model\n",
        "Ensemble model using bagging"
      ],
      "metadata": {
        "id": "NRME0o-0LXpA"
      }
    },
    {
      "cell_type": "code",
      "source": [
        "model_rf = RandomForestClassifier(n_estimators=400)"
      ],
      "metadata": {
        "execution": {
          "iopub.status.busy": "2023-05-31T07:34:14.993544Z",
          "iopub.execute_input": "2023-05-31T07:34:14.993875Z",
          "iopub.status.idle": "2023-05-31T07:34:14.998325Z",
          "shell.execute_reply.started": "2023-05-31T07:34:14.993848Z",
          "shell.execute_reply": "2023-05-31T07:34:14.997329Z"
        },
        "trusted": true,
        "id": "JgsWf1PeLXpA"
      },
      "execution_count": 38,
      "outputs": []
    },
    {
      "cell_type": "code",
      "source": [
        "model_rf.fit(X_train, y_train)"
      ],
      "metadata": {
        "execution": {
          "iopub.status.busy": "2023-05-31T07:34:14.999948Z",
          "iopub.execute_input": "2023-05-31T07:34:15.000269Z",
          "iopub.status.idle": "2023-05-31T07:45:09.910647Z",
          "shell.execute_reply.started": "2023-05-31T07:34:15.000242Z",
          "shell.execute_reply": "2023-05-31T07:45:09.909704Z"
        },
        "trusted": true,
        "colab": {
          "base_uri": "https://localhost:8080/",
          "height": 75
        },
        "id": "qG8jej92LXpA",
        "outputId": "e0283b4f-74bc-4e40-a4e8-caaef3c17bb3"
      },
      "execution_count": 39,
      "outputs": [
        {
          "output_type": "execute_result",
          "data": {
            "text/plain": [
              "RandomForestClassifier(n_estimators=400)"
            ],
            "text/html": [
              "<style>#sk-container-id-1 {color: black;}#sk-container-id-1 pre{padding: 0;}#sk-container-id-1 div.sk-toggleable {background-color: white;}#sk-container-id-1 label.sk-toggleable__label {cursor: pointer;display: block;width: 100%;margin-bottom: 0;padding: 0.3em;box-sizing: border-box;text-align: center;}#sk-container-id-1 label.sk-toggleable__label-arrow:before {content: \"▸\";float: left;margin-right: 0.25em;color: #696969;}#sk-container-id-1 label.sk-toggleable__label-arrow:hover:before {color: black;}#sk-container-id-1 div.sk-estimator:hover label.sk-toggleable__label-arrow:before {color: black;}#sk-container-id-1 div.sk-toggleable__content {max-height: 0;max-width: 0;overflow: hidden;text-align: left;background-color: #f0f8ff;}#sk-container-id-1 div.sk-toggleable__content pre {margin: 0.2em;color: black;border-radius: 0.25em;background-color: #f0f8ff;}#sk-container-id-1 input.sk-toggleable__control:checked~div.sk-toggleable__content {max-height: 200px;max-width: 100%;overflow: auto;}#sk-container-id-1 input.sk-toggleable__control:checked~label.sk-toggleable__label-arrow:before {content: \"▾\";}#sk-container-id-1 div.sk-estimator input.sk-toggleable__control:checked~label.sk-toggleable__label {background-color: #d4ebff;}#sk-container-id-1 div.sk-label input.sk-toggleable__control:checked~label.sk-toggleable__label {background-color: #d4ebff;}#sk-container-id-1 input.sk-hidden--visually {border: 0;clip: rect(1px 1px 1px 1px);clip: rect(1px, 1px, 1px, 1px);height: 1px;margin: -1px;overflow: hidden;padding: 0;position: absolute;width: 1px;}#sk-container-id-1 div.sk-estimator {font-family: monospace;background-color: #f0f8ff;border: 1px dotted black;border-radius: 0.25em;box-sizing: border-box;margin-bottom: 0.5em;}#sk-container-id-1 div.sk-estimator:hover {background-color: #d4ebff;}#sk-container-id-1 div.sk-parallel-item::after {content: \"\";width: 100%;border-bottom: 1px solid gray;flex-grow: 1;}#sk-container-id-1 div.sk-label:hover label.sk-toggleable__label {background-color: #d4ebff;}#sk-container-id-1 div.sk-serial::before {content: \"\";position: absolute;border-left: 1px solid gray;box-sizing: border-box;top: 0;bottom: 0;left: 50%;z-index: 0;}#sk-container-id-1 div.sk-serial {display: flex;flex-direction: column;align-items: center;background-color: white;padding-right: 0.2em;padding-left: 0.2em;position: relative;}#sk-container-id-1 div.sk-item {position: relative;z-index: 1;}#sk-container-id-1 div.sk-parallel {display: flex;align-items: stretch;justify-content: center;background-color: white;position: relative;}#sk-container-id-1 div.sk-item::before, #sk-container-id-1 div.sk-parallel-item::before {content: \"\";position: absolute;border-left: 1px solid gray;box-sizing: border-box;top: 0;bottom: 0;left: 50%;z-index: -1;}#sk-container-id-1 div.sk-parallel-item {display: flex;flex-direction: column;z-index: 1;position: relative;background-color: white;}#sk-container-id-1 div.sk-parallel-item:first-child::after {align-self: flex-end;width: 50%;}#sk-container-id-1 div.sk-parallel-item:last-child::after {align-self: flex-start;width: 50%;}#sk-container-id-1 div.sk-parallel-item:only-child::after {width: 0;}#sk-container-id-1 div.sk-dashed-wrapped {border: 1px dashed gray;margin: 0 0.4em 0.5em 0.4em;box-sizing: border-box;padding-bottom: 0.4em;background-color: white;}#sk-container-id-1 div.sk-label label {font-family: monospace;font-weight: bold;display: inline-block;line-height: 1.2em;}#sk-container-id-1 div.sk-label-container {text-align: center;}#sk-container-id-1 div.sk-container {/* jupyter's `normalize.less` sets `[hidden] { display: none; }` but bootstrap.min.css set `[hidden] { display: none !important; }` so we also need the `!important` here to be able to override the default hidden behavior on the sphinx rendered scikit-learn.org. See: https://github.com/scikit-learn/scikit-learn/issues/21755 */display: inline-block !important;position: relative;}#sk-container-id-1 div.sk-text-repr-fallback {display: none;}</style><div id=\"sk-container-id-1\" class=\"sk-top-container\"><div class=\"sk-text-repr-fallback\"><pre>RandomForestClassifier(n_estimators=400)</pre><b>In a Jupyter environment, please rerun this cell to show the HTML representation or trust the notebook. <br />On GitHub, the HTML representation is unable to render, please try loading this page with nbviewer.org.</b></div><div class=\"sk-container\" hidden><div class=\"sk-item\"><div class=\"sk-estimator sk-toggleable\"><input class=\"sk-toggleable__control sk-hidden--visually\" id=\"sk-estimator-id-1\" type=\"checkbox\" checked><label for=\"sk-estimator-id-1\" class=\"sk-toggleable__label sk-toggleable__label-arrow\">RandomForestClassifier</label><div class=\"sk-toggleable__content\"><pre>RandomForestClassifier(n_estimators=400)</pre></div></div></div></div></div>"
            ]
          },
          "metadata": {},
          "execution_count": 39
        }
      ]
    },
    {
      "cell_type": "code",
      "source": [
        "predictions_rf = model_rf.predict(X_test)"
      ],
      "metadata": {
        "execution": {
          "iopub.status.busy": "2023-05-31T07:45:09.912416Z",
          "iopub.execute_input": "2023-05-31T07:45:09.913149Z",
          "iopub.status.idle": "2023-05-31T07:45:46.786843Z",
          "shell.execute_reply.started": "2023-05-31T07:45:09.913111Z",
          "shell.execute_reply": "2023-05-31T07:45:46.785883Z"
        },
        "trusted": true,
        "id": "Ve9oegzSLXpB"
      },
      "execution_count": 40,
      "outputs": []
    },
    {
      "cell_type": "markdown",
      "source": [
        "## 4.2 Neural Network\n",
        "Fitted on scaled data using early stopping"
      ],
      "metadata": {
        "id": "BQGThCrbLXpB"
      }
    },
    {
      "cell_type": "code",
      "source": [
        "scaler = MinMaxScaler()\n",
        "X_train = scaler.fit_transform(X_train)\n",
        "X_test = scaler.transform(X_test)"
      ],
      "metadata": {
        "execution": {
          "iopub.status.busy": "2023-05-31T07:45:46.788384Z",
          "iopub.execute_input": "2023-05-31T07:45:46.788794Z",
          "iopub.status.idle": "2023-05-31T07:45:47.350238Z",
          "shell.execute_reply.started": "2023-05-31T07:45:46.788759Z",
          "shell.execute_reply": "2023-05-31T07:45:47.349215Z"
        },
        "trusted": true,
        "id": "csbeoi4fLXpB"
      },
      "execution_count": 41,
      "outputs": []
    },
    {
      "cell_type": "code",
      "source": [
        "model_nn = Sequential()"
      ],
      "metadata": {
        "execution": {
          "iopub.status.busy": "2023-05-31T07:45:47.351594Z",
          "iopub.execute_input": "2023-05-31T07:45:47.351879Z",
          "iopub.status.idle": "2023-05-31T07:45:47.441318Z",
          "shell.execute_reply.started": "2023-05-31T07:45:47.351855Z",
          "shell.execute_reply": "2023-05-31T07:45:47.440445Z"
        },
        "trusted": true,
        "id": "LrQB4MJgLXpB"
      },
      "execution_count": 42,
      "outputs": []
    },
    {
      "cell_type": "code",
      "source": [
        "model_nn.add(Dense(38, activation=\"relu\"))\n",
        "model_nn.add(Dropout(0.2))\n",
        "model_nn.add(Dense(19, activation=\"relu\"))\n",
        "model_nn.add(Dropout(0.2))\n",
        "model_nn.add(Dense(1, activation=\"sigmoid\"))\n",
        "model_nn.compile(optimizer=\"adam\", loss=\"binary_crossentropy\")"
      ],
      "metadata": {
        "execution": {
          "iopub.status.busy": "2023-05-31T07:45:47.447404Z",
          "iopub.execute_input": "2023-05-31T07:45:47.44774Z",
          "iopub.status.idle": "2023-05-31T07:45:47.485923Z",
          "shell.execute_reply.started": "2023-05-31T07:45:47.447712Z",
          "shell.execute_reply": "2023-05-31T07:45:47.485066Z"
        },
        "trusted": true,
        "id": "oPJyD8vsLXpB"
      },
      "execution_count": 43,
      "outputs": []
    },
    {
      "cell_type": "code",
      "source": [
        "early_stop = EarlyStopping(monitor=\"val_loss\", mode=\"min\", verbose=1, patience=10)"
      ],
      "metadata": {
        "execution": {
          "iopub.status.busy": "2023-05-31T07:45:47.487144Z",
          "iopub.execute_input": "2023-05-31T07:45:47.487441Z",
          "iopub.status.idle": "2023-05-31T07:45:47.491755Z",
          "shell.execute_reply.started": "2023-05-31T07:45:47.487409Z",
          "shell.execute_reply": "2023-05-31T07:45:47.490729Z"
        },
        "trusted": true,
        "id": "NeOwXwpWLXpC"
      },
      "execution_count": 44,
      "outputs": []
    },
    {
      "cell_type": "code",
      "source": [
        "model_nn.fit(x=X_train, y=y_train, validation_data=(X_test, y_test), epochs=150, batch_size=128, callbacks=[early_stop])"
      ],
      "metadata": {
        "scrolled": true,
        "execution": {
          "iopub.status.busy": "2023-05-31T07:45:47.493346Z",
          "iopub.execute_input": "2023-05-31T07:45:47.49397Z",
          "iopub.status.idle": "2023-05-31T07:51:53.01412Z",
          "shell.execute_reply.started": "2023-05-31T07:45:47.493935Z",
          "shell.execute_reply": "2023-05-31T07:51:53.013095Z"
        },
        "trusted": true,
        "colab": {
          "base_uri": "https://localhost:8080/"
        },
        "id": "A47BHpRSLXpC",
        "outputId": "8e8e4326-cd74-47ce-d4ad-f1bc3c440d43"
      },
      "execution_count": 45,
      "outputs": [
        {
          "output_type": "stream",
          "name": "stdout",
          "text": [
            "Epoch 1/150\n",
            "\u001b[1m5644/5644\u001b[0m \u001b[32m━━━━━━━━━━━━━━━━━━━━\u001b[0m\u001b[37m\u001b[0m \u001b[1m20s\u001b[0m 3ms/step - loss: 0.1538 - val_loss: 0.1088\n",
            "Epoch 2/150\n",
            "\u001b[1m5644/5644\u001b[0m \u001b[32m━━━━━━━━━━━━━━━━━━━━\u001b[0m\u001b[37m\u001b[0m \u001b[1m21s\u001b[0m 3ms/step - loss: 0.1125 - val_loss: 0.1084\n",
            "Epoch 3/150\n",
            "\u001b[1m5644/5644\u001b[0m \u001b[32m━━━━━━━━━━━━━━━━━━━━\u001b[0m\u001b[37m\u001b[0m \u001b[1m13s\u001b[0m 2ms/step - loss: 0.1125 - val_loss: 0.1077\n",
            "Epoch 4/150\n",
            "\u001b[1m5644/5644\u001b[0m \u001b[32m━━━━━━━━━━━━━━━━━━━━\u001b[0m\u001b[37m\u001b[0m \u001b[1m13s\u001b[0m 2ms/step - loss: 0.1108 - val_loss: 0.1073\n",
            "Epoch 5/150\n",
            "\u001b[1m5644/5644\u001b[0m \u001b[32m━━━━━━━━━━━━━━━━━━━━\u001b[0m\u001b[37m\u001b[0m \u001b[1m21s\u001b[0m 2ms/step - loss: 0.1113 - val_loss: 0.1075\n",
            "Epoch 6/150\n",
            "\u001b[1m5644/5644\u001b[0m \u001b[32m━━━━━━━━━━━━━━━━━━━━\u001b[0m\u001b[37m\u001b[0m \u001b[1m21s\u001b[0m 3ms/step - loss: 0.1095 - val_loss: 0.1072\n",
            "Epoch 7/150\n",
            "\u001b[1m5644/5644\u001b[0m \u001b[32m━━━━━━━━━━━━━━━━━━━━\u001b[0m\u001b[37m\u001b[0m \u001b[1m12s\u001b[0m 2ms/step - loss: 0.1109 - val_loss: 0.1076\n",
            "Epoch 8/150\n",
            "\u001b[1m5644/5644\u001b[0m \u001b[32m━━━━━━━━━━━━━━━━━━━━\u001b[0m\u001b[37m\u001b[0m \u001b[1m21s\u001b[0m 2ms/step - loss: 0.1097 - val_loss: 0.1073\n",
            "Epoch 9/150\n",
            "\u001b[1m5644/5644\u001b[0m \u001b[32m━━━━━━━━━━━━━━━━━━━━\u001b[0m\u001b[37m\u001b[0m \u001b[1m19s\u001b[0m 2ms/step - loss: 0.1096 - val_loss: 0.1072\n",
            "Epoch 10/150\n",
            "\u001b[1m5644/5644\u001b[0m \u001b[32m━━━━━━━━━━━━━━━━━━━━\u001b[0m\u001b[37m\u001b[0m \u001b[1m22s\u001b[0m 2ms/step - loss: 0.1100 - val_loss: 0.1069\n",
            "Epoch 11/150\n",
            "\u001b[1m5644/5644\u001b[0m \u001b[32m━━━━━━━━━━━━━━━━━━━━\u001b[0m\u001b[37m\u001b[0m \u001b[1m13s\u001b[0m 2ms/step - loss: 0.1107 - val_loss: 0.1074\n",
            "Epoch 12/150\n",
            "\u001b[1m5644/5644\u001b[0m \u001b[32m━━━━━━━━━━━━━━━━━━━━\u001b[0m\u001b[37m\u001b[0m \u001b[1m21s\u001b[0m 2ms/step - loss: 0.1103 - val_loss: 0.1070\n",
            "Epoch 13/150\n",
            "\u001b[1m5644/5644\u001b[0m \u001b[32m━━━━━━━━━━━━━━━━━━━━\u001b[0m\u001b[37m\u001b[0m \u001b[1m13s\u001b[0m 2ms/step - loss: 0.1094 - val_loss: 0.1068\n",
            "Epoch 14/150\n",
            "\u001b[1m5644/5644\u001b[0m \u001b[32m━━━━━━━━━━━━━━━━━━━━\u001b[0m\u001b[37m\u001b[0m \u001b[1m13s\u001b[0m 2ms/step - loss: 0.1086 - val_loss: 0.1067\n",
            "Epoch 15/150\n",
            "\u001b[1m5644/5644\u001b[0m \u001b[32m━━━━━━━━━━━━━━━━━━━━\u001b[0m\u001b[37m\u001b[0m \u001b[1m20s\u001b[0m 2ms/step - loss: 0.1094 - val_loss: 0.1069\n",
            "Epoch 16/150\n",
            "\u001b[1m5644/5644\u001b[0m \u001b[32m━━━━━━━━━━━━━━━━━━━━\u001b[0m\u001b[37m\u001b[0m \u001b[1m21s\u001b[0m 2ms/step - loss: 0.1100 - val_loss: 0.1069\n",
            "Epoch 17/150\n",
            "\u001b[1m5644/5644\u001b[0m \u001b[32m━━━━━━━━━━━━━━━━━━━━\u001b[0m\u001b[37m\u001b[0m \u001b[1m14s\u001b[0m 2ms/step - loss: 0.1084 - val_loss: 0.1068\n",
            "Epoch 18/150\n",
            "\u001b[1m5644/5644\u001b[0m \u001b[32m━━━━━━━━━━━━━━━━━━━━\u001b[0m\u001b[37m\u001b[0m \u001b[1m16s\u001b[0m 3ms/step - loss: 0.1097 - val_loss: 0.1074\n",
            "Epoch 19/150\n",
            "\u001b[1m5644/5644\u001b[0m \u001b[32m━━━━━━━━━━━━━━━━━━━━\u001b[0m\u001b[37m\u001b[0m \u001b[1m18s\u001b[0m 2ms/step - loss: 0.1094 - val_loss: 0.1073\n",
            "Epoch 20/150\n",
            "\u001b[1m5644/5644\u001b[0m \u001b[32m━━━━━━━━━━━━━━━━━━━━\u001b[0m\u001b[37m\u001b[0m \u001b[1m13s\u001b[0m 2ms/step - loss: 0.1104 - val_loss: 0.1073\n",
            "Epoch 21/150\n",
            "\u001b[1m5644/5644\u001b[0m \u001b[32m━━━━━━━━━━━━━━━━━━━━\u001b[0m\u001b[37m\u001b[0m \u001b[1m21s\u001b[0m 2ms/step - loss: 0.1092 - val_loss: 0.1071\n",
            "Epoch 22/150\n",
            "\u001b[1m5644/5644\u001b[0m \u001b[32m━━━━━━━━━━━━━━━━━━━━\u001b[0m\u001b[37m\u001b[0m \u001b[1m21s\u001b[0m 3ms/step - loss: 0.1098 - val_loss: 0.1069\n",
            "Epoch 23/150\n",
            "\u001b[1m5644/5644\u001b[0m \u001b[32m━━━━━━━━━━━━━━━━━━━━\u001b[0m\u001b[37m\u001b[0m \u001b[1m20s\u001b[0m 2ms/step - loss: 0.1090 - val_loss: 0.1067\n",
            "Epoch 24/150\n",
            "\u001b[1m5644/5644\u001b[0m \u001b[32m━━━━━━━━━━━━━━━━━━━━\u001b[0m\u001b[37m\u001b[0m \u001b[1m21s\u001b[0m 3ms/step - loss: 0.1102 - val_loss: 0.1066\n",
            "Epoch 25/150\n",
            "\u001b[1m5644/5644\u001b[0m \u001b[32m━━━━━━━━━━━━━━━━━━━━\u001b[0m\u001b[37m\u001b[0m \u001b[1m15s\u001b[0m 3ms/step - loss: 0.1091 - val_loss: 0.1065\n",
            "Epoch 26/150\n",
            "\u001b[1m5644/5644\u001b[0m \u001b[32m━━━━━━━━━━━━━━━━━━━━\u001b[0m\u001b[37m\u001b[0m \u001b[1m19s\u001b[0m 2ms/step - loss: 0.1082 - val_loss: 0.1073\n",
            "Epoch 27/150\n",
            "\u001b[1m5644/5644\u001b[0m \u001b[32m━━━━━━━━━━━━━━━━━━━━\u001b[0m\u001b[37m\u001b[0m \u001b[1m20s\u001b[0m 2ms/step - loss: 0.1093 - val_loss: 0.1067\n",
            "Epoch 28/150\n",
            "\u001b[1m5644/5644\u001b[0m \u001b[32m━━━━━━━━━━━━━━━━━━━━\u001b[0m\u001b[37m\u001b[0m \u001b[1m21s\u001b[0m 2ms/step - loss: 0.1091 - val_loss: 0.1066\n",
            "Epoch 29/150\n",
            "\u001b[1m5644/5644\u001b[0m \u001b[32m━━━━━━━━━━━━━━━━━━━━\u001b[0m\u001b[37m\u001b[0m \u001b[1m20s\u001b[0m 2ms/step - loss: 0.1094 - val_loss: 0.1066\n",
            "Epoch 30/150\n",
            "\u001b[1m5644/5644\u001b[0m \u001b[32m━━━━━━━━━━━━━━━━━━━━\u001b[0m\u001b[37m\u001b[0m \u001b[1m20s\u001b[0m 2ms/step - loss: 0.1090 - val_loss: 0.1069\n",
            "Epoch 31/150\n",
            "\u001b[1m5644/5644\u001b[0m \u001b[32m━━━━━━━━━━━━━━━━━━━━\u001b[0m\u001b[37m\u001b[0m \u001b[1m24s\u001b[0m 3ms/step - loss: 0.1089 - val_loss: 0.1068\n",
            "Epoch 32/150\n",
            "\u001b[1m5644/5644\u001b[0m \u001b[32m━━━━━━━━━━━━━━━━━━━━\u001b[0m\u001b[37m\u001b[0m \u001b[1m16s\u001b[0m 2ms/step - loss: 0.1088 - val_loss: 0.1065\n",
            "Epoch 33/150\n",
            "\u001b[1m5644/5644\u001b[0m \u001b[32m━━━━━━━━━━━━━━━━━━━━\u001b[0m\u001b[37m\u001b[0m \u001b[1m22s\u001b[0m 2ms/step - loss: 0.1091 - val_loss: 0.1069\n",
            "Epoch 34/150\n",
            "\u001b[1m5644/5644\u001b[0m \u001b[32m━━━━━━━━━━━━━━━━━━━━\u001b[0m\u001b[37m\u001b[0m \u001b[1m20s\u001b[0m 2ms/step - loss: 0.1098 - val_loss: 0.1065\n",
            "Epoch 35/150\n",
            "\u001b[1m5644/5644\u001b[0m \u001b[32m━━━━━━━━━━━━━━━━━━━━\u001b[0m\u001b[37m\u001b[0m \u001b[1m14s\u001b[0m 2ms/step - loss: 0.1097 - val_loss: 0.1070\n",
            "Epoch 36/150\n",
            "\u001b[1m5644/5644\u001b[0m \u001b[32m━━━━━━━━━━━━━━━━━━━━\u001b[0m\u001b[37m\u001b[0m \u001b[1m23s\u001b[0m 3ms/step - loss: 0.1087 - val_loss: 0.1067\n",
            "Epoch 37/150\n",
            "\u001b[1m5644/5644\u001b[0m \u001b[32m━━━━━━━━━━━━━━━━━━━━\u001b[0m\u001b[37m\u001b[0m \u001b[1m16s\u001b[0m 3ms/step - loss: 0.1090 - val_loss: 0.1071\n",
            "Epoch 38/150\n",
            "\u001b[1m5644/5644\u001b[0m \u001b[32m━━━━━━━━━━━━━━━━━━━━\u001b[0m\u001b[37m\u001b[0m \u001b[1m13s\u001b[0m 2ms/step - loss: 0.1089 - val_loss: 0.1065\n",
            "Epoch 39/150\n",
            "\u001b[1m5644/5644\u001b[0m \u001b[32m━━━━━━━━━━━━━━━━━━━━\u001b[0m\u001b[37m\u001b[0m \u001b[1m23s\u001b[0m 3ms/step - loss: 0.1092 - val_loss: 0.1066\n",
            "Epoch 40/150\n",
            "\u001b[1m5644/5644\u001b[0m \u001b[32m━━━━━━━━━━━━━━━━━━━━\u001b[0m\u001b[37m\u001b[0m \u001b[1m18s\u001b[0m 2ms/step - loss: 0.1086 - val_loss: 0.1074\n",
            "Epoch 41/150\n",
            "\u001b[1m5644/5644\u001b[0m \u001b[32m━━━━━━━━━━━━━━━━━━━━\u001b[0m\u001b[37m\u001b[0m \u001b[1m20s\u001b[0m 2ms/step - loss: 0.1094 - val_loss: 0.1074\n",
            "Epoch 42/150\n",
            "\u001b[1m5644/5644\u001b[0m \u001b[32m━━━━━━━━━━━━━━━━━━━━\u001b[0m\u001b[37m\u001b[0m \u001b[1m14s\u001b[0m 2ms/step - loss: 0.1092 - val_loss: 0.1065\n",
            "Epoch 42: early stopping\n"
          ]
        },
        {
          "output_type": "execute_result",
          "data": {
            "text/plain": [
              "<keras.src.callbacks.history.History at 0x7fab3c279510>"
            ]
          },
          "metadata": {},
          "execution_count": 45
        }
      ]
    },
    {
      "cell_type": "code",
      "source": [
        "losses = pd.DataFrame(model_nn.history.history)\n",
        "losses.plot()\n",
        "plt.title(\"Model Training\")\n",
        "plt.xlabel(\"Epoch\")\n",
        "plt.ylabel(\"Loss\")\n",
        "plt.show()"
      ],
      "metadata": {
        "execution": {
          "iopub.status.busy": "2023-05-31T07:51:53.015486Z",
          "iopub.execute_input": "2023-05-31T07:51:53.015778Z",
          "iopub.status.idle": "2023-05-31T07:52:11.042901Z",
          "shell.execute_reply.started": "2023-05-31T07:51:53.015751Z",
          "shell.execute_reply": "2023-05-31T07:52:11.041844Z"
        },
        "trusted": true,
        "colab": {
          "base_uri": "https://localhost:8080/",
          "height": 472
        },
        "id": "Ki1WoTxsLXpC",
        "outputId": "e351a15c-0c4f-482e-c0e5-2c08bdc7ce11"
      },
      "execution_count": 46,
      "outputs": [
        {
          "output_type": "display_data",
          "data": {
            "text/plain": [
              "<Figure size 640x480 with 1 Axes>"
            ],
            "image/png": "[encoded data removed]"
          },
          "metadata": {}
        }
      ]
    },
    {
      "cell_type": "code",
      "source": [
        "pred_nn = model_nn.predict(X_test)\n",
        "predictions_nn = np.where(pred_nn > 0.5, 1, 0)"
      ],
      "metadata": {
        "execution": {
          "iopub.status.busy": "2023-05-31T07:52:11.044331Z",
          "iopub.execute_input": "2023-05-31T07:52:11.044767Z",
          "iopub.status.idle": "2023-05-31T07:52:24.661129Z",
          "shell.execute_reply.started": "2023-05-31T07:52:11.044729Z",
          "shell.execute_reply": "2023-05-31T07:52:24.660044Z"
        },
        "trusted": true,
        "colab": {
          "base_uri": "https://localhost:8080/"
        },
        "id": "ubU27ZNeLXpC",
        "outputId": "7ccc0af8-8ee5-4da8-94c0-76df22e887e9"
      },
      "execution_count": 47,
      "outputs": [
        {
          "output_type": "stream",
          "name": "stdout",
          "text": [
            "\u001b[1m9674/9674\u001b[0m \u001b[32m━━━━━━━━━━━━━━━━━━━━\u001b[0m\u001b[37m\u001b[0m \u001b[1m11s\u001b[0m 1ms/step\n"
          ]
        }
      ]
    },
    {
      "cell_type": "markdown",
      "source": [
        "# 5. Model Performance\n",
        "Comparing metrics for the two selected models"
      ],
      "metadata": {
        "id": "BrUb7Dj7LXpC"
      }
    },
    {
      "cell_type": "markdown",
      "source": [
        "## 5.1 Random Forest"
      ],
      "metadata": {
        "id": "GfG776T2LXpC"
      }
    },
    {
      "cell_type": "code",
      "source": [
        "print(classification_report(y_test, predictions_rf))"
      ],
      "metadata": {
        "execution": {
          "iopub.status.busy": "2023-05-31T07:52:24.662756Z",
          "iopub.execute_input": "2023-05-31T07:52:24.663129Z",
          "iopub.status.idle": "2023-05-31T07:52:25.079764Z",
          "shell.execute_reply.started": "2023-05-31T07:52:24.663092Z",
          "shell.execute_reply": "2023-05-31T07:52:25.077368Z"
        },
        "trusted": true,
        "colab": {
          "base_uri": "https://localhost:8080/"
        },
        "id": "-8H3y0bKLXpC",
        "outputId": "c7b9529f-8a77-44d5-b7dd-0a0227bedf5b"
      },
      "execution_count": 48,
      "outputs": [
        {
          "output_type": "stream",
          "name": "stdout",
          "text": [
            "              precision    recall  f1-score   support\n",
            "\n",
            "           0       0.96      0.98      0.97    287755\n",
            "           1       0.64      0.53      0.58     21805\n",
            "\n",
            "    accuracy                           0.95    309560\n",
            "   macro avg       0.80      0.75      0.77    309560\n",
            "weighted avg       0.94      0.95      0.94    309560\n",
            "\n"
          ]
        }
      ]
    },
    {
      "cell_type": "code",
      "source": [
        "print(confusion_matrix(y_test, predictions_rf))"
      ],
      "metadata": {
        "execution": {
          "iopub.status.busy": "2023-05-31T07:52:25.084272Z",
          "iopub.execute_input": "2023-05-31T07:52:25.084661Z",
          "iopub.status.idle": "2023-05-31T07:52:25.138896Z",
          "shell.execute_reply.started": "2023-05-31T07:52:25.084622Z",
          "shell.execute_reply": "2023-05-31T07:52:25.137777Z"
        },
        "trusted": true,
        "colab": {
          "base_uri": "https://localhost:8080/"
        },
        "id": "N17q6LvfLXpC",
        "outputId": "8186d9c3-2b35-4743-fb58-9d128776955b"
      },
      "execution_count": 49,
      "outputs": [
        {
          "output_type": "stream",
          "name": "stdout",
          "text": [
            "[[281350   6405]\n",
            " [ 10326  11479]]\n"
          ]
        }
      ]
    },
    {
      "cell_type": "markdown",
      "source": [
        "## 5.2 Neural Network"
      ],
      "metadata": {
        "id": "GKudFw0ILXpD"
      }
    },
    {
      "cell_type": "code",
      "source": [
        "print(confusion_matrix(y_test, predictions_nn))"
      ],
      "metadata": {
        "execution": {
          "iopub.status.busy": "2023-05-31T07:52:25.140334Z",
          "iopub.execute_input": "2023-05-31T07:52:25.141134Z",
          "iopub.status.idle": "2023-05-31T07:52:25.188039Z",
          "shell.execute_reply.started": "2023-05-31T07:52:25.141103Z",
          "shell.execute_reply": "2023-05-31T07:52:25.187025Z"
        },
        "trusted": true,
        "colab": {
          "base_uri": "https://localhost:8080/"
        },
        "id": "XrzW5BYbLXpD",
        "outputId": "227fe239-460c-4dab-a5f3-f0cf244266e1"
      },
      "execution_count": 50,
      "outputs": [
        {
          "output_type": "stream",
          "name": "stdout",
          "text": [
            "[[284038   3717]\n",
            " [ 10773  11032]]\n"
          ]
        }
      ]
    },
    {
      "cell_type": "code",
      "source": [
        "print(classification_report(y_test, predictions_nn))"
      ],
      "metadata": {
        "execution": {
          "iopub.status.busy": "2023-05-31T07:52:25.189381Z",
          "iopub.execute_input": "2023-05-31T07:52:25.189987Z",
          "iopub.status.idle": "2023-05-31T07:52:25.59829Z",
          "shell.execute_reply.started": "2023-05-31T07:52:25.189958Z",
          "shell.execute_reply": "2023-05-31T07:52:25.597548Z"
        },
        "trusted": true,
        "colab": {
          "base_uri": "https://localhost:8080/"
        },
        "id": "KDZ4wbHeLXpD",
        "outputId": "2f5688b1-9f99-4490-f2ec-bab65739a0a9"
      },
      "execution_count": 51,
      "outputs": [
        {
          "output_type": "stream",
          "name": "stdout",
          "text": [
            "              precision    recall  f1-score   support\n",
            "\n",
            "           0       0.96      0.99      0.98    287755\n",
            "           1       0.75      0.51      0.60     21805\n",
            "\n",
            "    accuracy                           0.95    309560\n",
            "   macro avg       0.86      0.75      0.79    309560\n",
            "weighted avg       0.95      0.95      0.95    309560\n",
            "\n"
          ]
        }
      ]
    },
    {
      "cell_type": "markdown",
      "source": [
        "As can be seen, the performances of the two models are very similar."
      ],
      "metadata": {
        "id": "H60kc61qLXpD"
      }
    }
  ]
}